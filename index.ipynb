{
  "nbformat": 4,
  "nbformat_minor": 0,
  "metadata": {
    "kernelspec": {
      "display_name": "Python 3",
      "language": "python",
      "name": "python3"
    },
    "language_info": {
      "codemirror_mode": {
        "name": "ipython",
        "version": 3
      },
      "file_extension": ".py",
      "mimetype": "text/x-python",
      "name": "python",
      "nbconvert_exporter": "python",
      "pygments_lexer": "ipython3",
      "version": "3.6.9"
    },
    "colab": {
      "name": "index.ipynb",
      "provenance": [],
      "collapsed_sections": [],
      "machine_shape": "hm"
    }
  },
  "cells": [
    {
      "cell_type": "markdown",
      "metadata": {
        "id": "4mBbdz6b8WCT",
        "colab_type": "text"
      },
      "source": [
        "# __Which features of a given flight will predict a late arrival?__ \n",
        "\n",
        "The dataset was obtained from https://www.kaggle.com/usdot/flight-delays, and comprised of all US domestic flights in 2015. This notebook will reflect the process of reviewing the dataset/EDA and selecting the relevant features, and then select, fit, and tune a model. \n"
      ]
    },
    {
      "cell_type": "code",
      "metadata": {
        "id": "QRtkXLEt8WCU",
        "colab_type": "code",
        "colab": {
          "base_uri": "https://localhost:8080/",
          "height": 71
        },
        "outputId": "4fe7610f-b70a-42db-b27a-b91aae89ed23"
      },
      "source": [
        "# Import the necessary libraries\n",
        "import pandas as pd\n",
        "import numpy as np\n",
        "import matplotlib.pyplot as plt\n",
        "import seaborn as sns\n",
        "%matplotlib inline\n",
        "pd.set_option('display.max_rows', 500)\n",
        "pd.set_option('display.max_columns', 500)\n",
        "pd.set_option('display.width', 1000)\n",
        "\n",
        "from sklearn.model_selection import train_test_split\n",
        "from sklearn.metrics import accuracy_score, classification_report, confusion_matrix\n",
        "from sklearn.tree import DecisionTreeClassifier\n",
        "from sklearn.ensemble import RandomForestClassifier\n",
        "from sklearn.preprocessing import LabelEncoder\n",
        "from sklearn.model_selection import GridSearchCV, RandomizedSearchCV\n",
        "\n",
        "import warnings\n",
        "warnings.filterwarnings('ignore')"
      ],
      "execution_count": 1,
      "outputs": [
        {
          "output_type": "stream",
          "text": [
            "/usr/local/lib/python3.6/dist-packages/statsmodels/tools/_testing.py:19: FutureWarning: pandas.util.testing is deprecated. Use the functions in the public API at pandas.testing instead.\n",
            "  import pandas.util.testing as tm\n"
          ],
          "name": "stderr"
        }
      ]
    },
    {
      "cell_type": "code",
      "metadata": {
        "id": "diFjkQDE-kXO",
        "colab_type": "code",
        "colab": {
          "base_uri": "https://localhost:8080/",
          "height": 34
        },
        "outputId": "79f3925e-5bd5-492f-c3fa-edc64e22730a"
      },
      "source": [
        "from google.colab import drive\n",
        "drive.mount('/content/drive')"
      ],
      "execution_count": 2,
      "outputs": [
        {
          "output_type": "stream",
          "text": [
            "Drive already mounted at /content/drive; to attempt to forcibly remount, call drive.mount(\"/content/drive\", force_remount=True).\n"
          ],
          "name": "stdout"
        }
      ]
    },
    {
      "cell_type": "code",
      "metadata": {
        "scrolled": false,
        "id": "-qi94roW8WCc",
        "colab_type": "code",
        "colab": {
          "base_uri": "https://localhost:8080/",
          "height": 224
        },
        "outputId": "a4adda8f-dded-4dfa-d5ec-ef2ca53d71cf"
      },
      "source": [
        "df = pd.read_csv('/content/drive/My Drive/Colab Notebooks/flights.csv')\n",
        "\n",
        "df.head()"
      ],
      "execution_count": 3,
      "outputs": [
        {
          "output_type": "execute_result",
          "data": {
            "text/html": [
              "<div>\n",
              "<style scoped>\n",
              "    .dataframe tbody tr th:only-of-type {\n",
              "        vertical-align: middle;\n",
              "    }\n",
              "\n",
              "    .dataframe tbody tr th {\n",
              "        vertical-align: top;\n",
              "    }\n",
              "\n",
              "    .dataframe thead th {\n",
              "        text-align: right;\n",
              "    }\n",
              "</style>\n",
              "<table border=\"1\" class=\"dataframe\">\n",
              "  <thead>\n",
              "    <tr style=\"text-align: right;\">\n",
              "      <th></th>\n",
              "      <th>YEAR</th>\n",
              "      <th>MONTH</th>\n",
              "      <th>DAY</th>\n",
              "      <th>DAY_OF_WEEK</th>\n",
              "      <th>AIRLINE</th>\n",
              "      <th>FLIGHT_NUMBER</th>\n",
              "      <th>TAIL_NUMBER</th>\n",
              "      <th>ORIGIN_AIRPORT</th>\n",
              "      <th>DESTINATION_AIRPORT</th>\n",
              "      <th>SCHEDULED_DEPARTURE</th>\n",
              "      <th>DEPARTURE_TIME</th>\n",
              "      <th>DEPARTURE_DELAY</th>\n",
              "      <th>TAXI_OUT</th>\n",
              "      <th>WHEELS_OFF</th>\n",
              "      <th>SCHEDULED_TIME</th>\n",
              "      <th>ELAPSED_TIME</th>\n",
              "      <th>AIR_TIME</th>\n",
              "      <th>DISTANCE</th>\n",
              "      <th>WHEELS_ON</th>\n",
              "      <th>TAXI_IN</th>\n",
              "      <th>SCHEDULED_ARRIVAL</th>\n",
              "      <th>ARRIVAL_TIME</th>\n",
              "      <th>ARRIVAL_DELAY</th>\n",
              "      <th>DIVERTED</th>\n",
              "      <th>CANCELLED</th>\n",
              "      <th>CANCELLATION_REASON</th>\n",
              "      <th>AIR_SYSTEM_DELAY</th>\n",
              "      <th>SECURITY_DELAY</th>\n",
              "      <th>AIRLINE_DELAY</th>\n",
              "      <th>LATE_AIRCRAFT_DELAY</th>\n",
              "      <th>WEATHER_DELAY</th>\n",
              "    </tr>\n",
              "  </thead>\n",
              "  <tbody>\n",
              "    <tr>\n",
              "      <th>0</th>\n",
              "      <td>2015</td>\n",
              "      <td>1</td>\n",
              "      <td>1</td>\n",
              "      <td>4</td>\n",
              "      <td>AS</td>\n",
              "      <td>98</td>\n",
              "      <td>N407AS</td>\n",
              "      <td>ANC</td>\n",
              "      <td>SEA</td>\n",
              "      <td>5</td>\n",
              "      <td>2354.0</td>\n",
              "      <td>-11.0</td>\n",
              "      <td>21.0</td>\n",
              "      <td>15.0</td>\n",
              "      <td>205.0</td>\n",
              "      <td>194.0</td>\n",
              "      <td>169.0</td>\n",
              "      <td>1448</td>\n",
              "      <td>404.0</td>\n",
              "      <td>4.0</td>\n",
              "      <td>430</td>\n",
              "      <td>408.0</td>\n",
              "      <td>-22.0</td>\n",
              "      <td>0</td>\n",
              "      <td>0</td>\n",
              "      <td>NaN</td>\n",
              "      <td>NaN</td>\n",
              "      <td>NaN</td>\n",
              "      <td>NaN</td>\n",
              "      <td>NaN</td>\n",
              "      <td>NaN</td>\n",
              "    </tr>\n",
              "    <tr>\n",
              "      <th>1</th>\n",
              "      <td>2015</td>\n",
              "      <td>1</td>\n",
              "      <td>1</td>\n",
              "      <td>4</td>\n",
              "      <td>AA</td>\n",
              "      <td>2336</td>\n",
              "      <td>N3KUAA</td>\n",
              "      <td>LAX</td>\n",
              "      <td>PBI</td>\n",
              "      <td>10</td>\n",
              "      <td>2.0</td>\n",
              "      <td>-8.0</td>\n",
              "      <td>12.0</td>\n",
              "      <td>14.0</td>\n",
              "      <td>280.0</td>\n",
              "      <td>279.0</td>\n",
              "      <td>263.0</td>\n",
              "      <td>2330</td>\n",
              "      <td>737.0</td>\n",
              "      <td>4.0</td>\n",
              "      <td>750</td>\n",
              "      <td>741.0</td>\n",
              "      <td>-9.0</td>\n",
              "      <td>0</td>\n",
              "      <td>0</td>\n",
              "      <td>NaN</td>\n",
              "      <td>NaN</td>\n",
              "      <td>NaN</td>\n",
              "      <td>NaN</td>\n",
              "      <td>NaN</td>\n",
              "      <td>NaN</td>\n",
              "    </tr>\n",
              "    <tr>\n",
              "      <th>2</th>\n",
              "      <td>2015</td>\n",
              "      <td>1</td>\n",
              "      <td>1</td>\n",
              "      <td>4</td>\n",
              "      <td>US</td>\n",
              "      <td>840</td>\n",
              "      <td>N171US</td>\n",
              "      <td>SFO</td>\n",
              "      <td>CLT</td>\n",
              "      <td>20</td>\n",
              "      <td>18.0</td>\n",
              "      <td>-2.0</td>\n",
              "      <td>16.0</td>\n",
              "      <td>34.0</td>\n",
              "      <td>286.0</td>\n",
              "      <td>293.0</td>\n",
              "      <td>266.0</td>\n",
              "      <td>2296</td>\n",
              "      <td>800.0</td>\n",
              "      <td>11.0</td>\n",
              "      <td>806</td>\n",
              "      <td>811.0</td>\n",
              "      <td>5.0</td>\n",
              "      <td>0</td>\n",
              "      <td>0</td>\n",
              "      <td>NaN</td>\n",
              "      <td>NaN</td>\n",
              "      <td>NaN</td>\n",
              "      <td>NaN</td>\n",
              "      <td>NaN</td>\n",
              "      <td>NaN</td>\n",
              "    </tr>\n",
              "    <tr>\n",
              "      <th>3</th>\n",
              "      <td>2015</td>\n",
              "      <td>1</td>\n",
              "      <td>1</td>\n",
              "      <td>4</td>\n",
              "      <td>AA</td>\n",
              "      <td>258</td>\n",
              "      <td>N3HYAA</td>\n",
              "      <td>LAX</td>\n",
              "      <td>MIA</td>\n",
              "      <td>20</td>\n",
              "      <td>15.0</td>\n",
              "      <td>-5.0</td>\n",
              "      <td>15.0</td>\n",
              "      <td>30.0</td>\n",
              "      <td>285.0</td>\n",
              "      <td>281.0</td>\n",
              "      <td>258.0</td>\n",
              "      <td>2342</td>\n",
              "      <td>748.0</td>\n",
              "      <td>8.0</td>\n",
              "      <td>805</td>\n",
              "      <td>756.0</td>\n",
              "      <td>-9.0</td>\n",
              "      <td>0</td>\n",
              "      <td>0</td>\n",
              "      <td>NaN</td>\n",
              "      <td>NaN</td>\n",
              "      <td>NaN</td>\n",
              "      <td>NaN</td>\n",
              "      <td>NaN</td>\n",
              "      <td>NaN</td>\n",
              "    </tr>\n",
              "    <tr>\n",
              "      <th>4</th>\n",
              "      <td>2015</td>\n",
              "      <td>1</td>\n",
              "      <td>1</td>\n",
              "      <td>4</td>\n",
              "      <td>AS</td>\n",
              "      <td>135</td>\n",
              "      <td>N527AS</td>\n",
              "      <td>SEA</td>\n",
              "      <td>ANC</td>\n",
              "      <td>25</td>\n",
              "      <td>24.0</td>\n",
              "      <td>-1.0</td>\n",
              "      <td>11.0</td>\n",
              "      <td>35.0</td>\n",
              "      <td>235.0</td>\n",
              "      <td>215.0</td>\n",
              "      <td>199.0</td>\n",
              "      <td>1448</td>\n",
              "      <td>254.0</td>\n",
              "      <td>5.0</td>\n",
              "      <td>320</td>\n",
              "      <td>259.0</td>\n",
              "      <td>-21.0</td>\n",
              "      <td>0</td>\n",
              "      <td>0</td>\n",
              "      <td>NaN</td>\n",
              "      <td>NaN</td>\n",
              "      <td>NaN</td>\n",
              "      <td>NaN</td>\n",
              "      <td>NaN</td>\n",
              "      <td>NaN</td>\n",
              "    </tr>\n",
              "  </tbody>\n",
              "</table>\n",
              "</div>"
            ],
            "text/plain": [
              "   YEAR  MONTH  DAY  DAY_OF_WEEK AIRLINE  FLIGHT_NUMBER TAIL_NUMBER ORIGIN_AIRPORT DESTINATION_AIRPORT  SCHEDULED_DEPARTURE  DEPARTURE_TIME  DEPARTURE_DELAY  TAXI_OUT  WHEELS_OFF  SCHEDULED_TIME  ELAPSED_TIME  AIR_TIME  DISTANCE  WHEELS_ON  TAXI_IN  SCHEDULED_ARRIVAL  ARRIVAL_TIME  ARRIVAL_DELAY  DIVERTED  CANCELLED CANCELLATION_REASON  AIR_SYSTEM_DELAY  SECURITY_DELAY  AIRLINE_DELAY  LATE_AIRCRAFT_DELAY  WEATHER_DELAY\n",
              "0  2015      1    1            4      AS             98      N407AS            ANC                 SEA                    5          2354.0            -11.0      21.0        15.0           205.0         194.0     169.0      1448      404.0      4.0                430         408.0          -22.0         0          0                 NaN               NaN             NaN            NaN                  NaN            NaN\n",
              "1  2015      1    1            4      AA           2336      N3KUAA            LAX                 PBI                   10             2.0             -8.0      12.0        14.0           280.0         279.0     263.0      2330      737.0      4.0                750         741.0           -9.0         0          0                 NaN               NaN             NaN            NaN                  NaN            NaN\n",
              "2  2015      1    1            4      US            840      N171US            SFO                 CLT                   20            18.0             -2.0      16.0        34.0           286.0         293.0     266.0      2296      800.0     11.0                806         811.0            5.0         0          0                 NaN               NaN             NaN            NaN                  NaN            NaN\n",
              "3  2015      1    1            4      AA            258      N3HYAA            LAX                 MIA                   20            15.0             -5.0      15.0        30.0           285.0         281.0     258.0      2342      748.0      8.0                805         756.0           -9.0         0          0                 NaN               NaN             NaN            NaN                  NaN            NaN\n",
              "4  2015      1    1            4      AS            135      N527AS            SEA                 ANC                   25            24.0             -1.0      11.0        35.0           235.0         215.0     199.0      1448      254.0      5.0                320         259.0          -21.0         0          0                 NaN               NaN             NaN            NaN                  NaN            NaN"
            ]
          },
          "metadata": {
            "tags": []
          },
          "execution_count": 3
        }
      ]
    },
    {
      "cell_type": "code",
      "metadata": {
        "id": "RCka1_8w8WCf",
        "colab_type": "code",
        "colab": {
          "base_uri": "https://localhost:8080/",
          "height": 317
        },
        "outputId": "1cc385bf-170a-4097-8b3c-df7675dcc924"
      },
      "source": [
        "df.describe()"
      ],
      "execution_count": 4,
      "outputs": [
        {
          "output_type": "execute_result",
          "data": {
            "text/html": [
              "<div>\n",
              "<style scoped>\n",
              "    .dataframe tbody tr th:only-of-type {\n",
              "        vertical-align: middle;\n",
              "    }\n",
              "\n",
              "    .dataframe tbody tr th {\n",
              "        vertical-align: top;\n",
              "    }\n",
              "\n",
              "    .dataframe thead th {\n",
              "        text-align: right;\n",
              "    }\n",
              "</style>\n",
              "<table border=\"1\" class=\"dataframe\">\n",
              "  <thead>\n",
              "    <tr style=\"text-align: right;\">\n",
              "      <th></th>\n",
              "      <th>YEAR</th>\n",
              "      <th>MONTH</th>\n",
              "      <th>DAY</th>\n",
              "      <th>DAY_OF_WEEK</th>\n",
              "      <th>FLIGHT_NUMBER</th>\n",
              "      <th>SCHEDULED_DEPARTURE</th>\n",
              "      <th>DEPARTURE_TIME</th>\n",
              "      <th>DEPARTURE_DELAY</th>\n",
              "      <th>TAXI_OUT</th>\n",
              "      <th>WHEELS_OFF</th>\n",
              "      <th>SCHEDULED_TIME</th>\n",
              "      <th>ELAPSED_TIME</th>\n",
              "      <th>AIR_TIME</th>\n",
              "      <th>DISTANCE</th>\n",
              "      <th>WHEELS_ON</th>\n",
              "      <th>TAXI_IN</th>\n",
              "      <th>SCHEDULED_ARRIVAL</th>\n",
              "      <th>ARRIVAL_TIME</th>\n",
              "      <th>ARRIVAL_DELAY</th>\n",
              "      <th>DIVERTED</th>\n",
              "      <th>CANCELLED</th>\n",
              "      <th>AIR_SYSTEM_DELAY</th>\n",
              "      <th>SECURITY_DELAY</th>\n",
              "      <th>AIRLINE_DELAY</th>\n",
              "      <th>LATE_AIRCRAFT_DELAY</th>\n",
              "      <th>WEATHER_DELAY</th>\n",
              "    </tr>\n",
              "  </thead>\n",
              "  <tbody>\n",
              "    <tr>\n",
              "      <th>count</th>\n",
              "      <td>5819079.0</td>\n",
              "      <td>5.819079e+06</td>\n",
              "      <td>5.819079e+06</td>\n",
              "      <td>5.819079e+06</td>\n",
              "      <td>5.819079e+06</td>\n",
              "      <td>5.819079e+06</td>\n",
              "      <td>5.732926e+06</td>\n",
              "      <td>5.732926e+06</td>\n",
              "      <td>5.730032e+06</td>\n",
              "      <td>5.730032e+06</td>\n",
              "      <td>5.819073e+06</td>\n",
              "      <td>5.714008e+06</td>\n",
              "      <td>5.714008e+06</td>\n",
              "      <td>5.819079e+06</td>\n",
              "      <td>5.726566e+06</td>\n",
              "      <td>5.726566e+06</td>\n",
              "      <td>5.819079e+06</td>\n",
              "      <td>5.726566e+06</td>\n",
              "      <td>5.714008e+06</td>\n",
              "      <td>5.819079e+06</td>\n",
              "      <td>5.819079e+06</td>\n",
              "      <td>1.063439e+06</td>\n",
              "      <td>1.063439e+06</td>\n",
              "      <td>1.063439e+06</td>\n",
              "      <td>1.063439e+06</td>\n",
              "      <td>1.063439e+06</td>\n",
              "    </tr>\n",
              "    <tr>\n",
              "      <th>mean</th>\n",
              "      <td>2015.0</td>\n",
              "      <td>6.524085e+00</td>\n",
              "      <td>1.570459e+01</td>\n",
              "      <td>3.926941e+00</td>\n",
              "      <td>2.173093e+03</td>\n",
              "      <td>1.329602e+03</td>\n",
              "      <td>1.335204e+03</td>\n",
              "      <td>9.370158e+00</td>\n",
              "      <td>1.607166e+01</td>\n",
              "      <td>1.357171e+03</td>\n",
              "      <td>1.416859e+02</td>\n",
              "      <td>1.370062e+02</td>\n",
              "      <td>1.135116e+02</td>\n",
              "      <td>8.223565e+02</td>\n",
              "      <td>1.471469e+03</td>\n",
              "      <td>7.434971e+00</td>\n",
              "      <td>1.493808e+03</td>\n",
              "      <td>1.476491e+03</td>\n",
              "      <td>4.407057e+00</td>\n",
              "      <td>2.609863e-03</td>\n",
              "      <td>1.544643e-02</td>\n",
              "      <td>1.348057e+01</td>\n",
              "      <td>7.615387e-02</td>\n",
              "      <td>1.896955e+01</td>\n",
              "      <td>2.347284e+01</td>\n",
              "      <td>2.915290e+00</td>\n",
              "    </tr>\n",
              "    <tr>\n",
              "      <th>std</th>\n",
              "      <td>0.0</td>\n",
              "      <td>3.405137e+00</td>\n",
              "      <td>8.783425e+00</td>\n",
              "      <td>1.988845e+00</td>\n",
              "      <td>1.757064e+03</td>\n",
              "      <td>4.837518e+02</td>\n",
              "      <td>4.964233e+02</td>\n",
              "      <td>3.708094e+01</td>\n",
              "      <td>8.895574e+00</td>\n",
              "      <td>4.980094e+02</td>\n",
              "      <td>7.521058e+01</td>\n",
              "      <td>7.421107e+01</td>\n",
              "      <td>7.223082e+01</td>\n",
              "      <td>6.077843e+02</td>\n",
              "      <td>5.221879e+02</td>\n",
              "      <td>5.638548e+00</td>\n",
              "      <td>5.071647e+02</td>\n",
              "      <td>5.263197e+02</td>\n",
              "      <td>3.927130e+01</td>\n",
              "      <td>5.102012e-02</td>\n",
              "      <td>1.233201e-01</td>\n",
              "      <td>2.800368e+01</td>\n",
              "      <td>2.143460e+00</td>\n",
              "      <td>4.816164e+01</td>\n",
              "      <td>4.319702e+01</td>\n",
              "      <td>2.043334e+01</td>\n",
              "    </tr>\n",
              "    <tr>\n",
              "      <th>min</th>\n",
              "      <td>2015.0</td>\n",
              "      <td>1.000000e+00</td>\n",
              "      <td>1.000000e+00</td>\n",
              "      <td>1.000000e+00</td>\n",
              "      <td>1.000000e+00</td>\n",
              "      <td>1.000000e+00</td>\n",
              "      <td>1.000000e+00</td>\n",
              "      <td>-8.200000e+01</td>\n",
              "      <td>1.000000e+00</td>\n",
              "      <td>1.000000e+00</td>\n",
              "      <td>1.800000e+01</td>\n",
              "      <td>1.400000e+01</td>\n",
              "      <td>7.000000e+00</td>\n",
              "      <td>2.100000e+01</td>\n",
              "      <td>1.000000e+00</td>\n",
              "      <td>1.000000e+00</td>\n",
              "      <td>1.000000e+00</td>\n",
              "      <td>1.000000e+00</td>\n",
              "      <td>-8.700000e+01</td>\n",
              "      <td>0.000000e+00</td>\n",
              "      <td>0.000000e+00</td>\n",
              "      <td>0.000000e+00</td>\n",
              "      <td>0.000000e+00</td>\n",
              "      <td>0.000000e+00</td>\n",
              "      <td>0.000000e+00</td>\n",
              "      <td>0.000000e+00</td>\n",
              "    </tr>\n",
              "    <tr>\n",
              "      <th>25%</th>\n",
              "      <td>2015.0</td>\n",
              "      <td>4.000000e+00</td>\n",
              "      <td>8.000000e+00</td>\n",
              "      <td>2.000000e+00</td>\n",
              "      <td>7.300000e+02</td>\n",
              "      <td>9.170000e+02</td>\n",
              "      <td>9.210000e+02</td>\n",
              "      <td>-5.000000e+00</td>\n",
              "      <td>1.100000e+01</td>\n",
              "      <td>9.350000e+02</td>\n",
              "      <td>8.500000e+01</td>\n",
              "      <td>8.200000e+01</td>\n",
              "      <td>6.000000e+01</td>\n",
              "      <td>3.730000e+02</td>\n",
              "      <td>1.054000e+03</td>\n",
              "      <td>4.000000e+00</td>\n",
              "      <td>1.110000e+03</td>\n",
              "      <td>1.059000e+03</td>\n",
              "      <td>-1.300000e+01</td>\n",
              "      <td>0.000000e+00</td>\n",
              "      <td>0.000000e+00</td>\n",
              "      <td>0.000000e+00</td>\n",
              "      <td>0.000000e+00</td>\n",
              "      <td>0.000000e+00</td>\n",
              "      <td>0.000000e+00</td>\n",
              "      <td>0.000000e+00</td>\n",
              "    </tr>\n",
              "    <tr>\n",
              "      <th>50%</th>\n",
              "      <td>2015.0</td>\n",
              "      <td>7.000000e+00</td>\n",
              "      <td>1.600000e+01</td>\n",
              "      <td>4.000000e+00</td>\n",
              "      <td>1.690000e+03</td>\n",
              "      <td>1.325000e+03</td>\n",
              "      <td>1.330000e+03</td>\n",
              "      <td>-2.000000e+00</td>\n",
              "      <td>1.400000e+01</td>\n",
              "      <td>1.343000e+03</td>\n",
              "      <td>1.230000e+02</td>\n",
              "      <td>1.180000e+02</td>\n",
              "      <td>9.400000e+01</td>\n",
              "      <td>6.470000e+02</td>\n",
              "      <td>1.509000e+03</td>\n",
              "      <td>6.000000e+00</td>\n",
              "      <td>1.520000e+03</td>\n",
              "      <td>1.512000e+03</td>\n",
              "      <td>-5.000000e+00</td>\n",
              "      <td>0.000000e+00</td>\n",
              "      <td>0.000000e+00</td>\n",
              "      <td>2.000000e+00</td>\n",
              "      <td>0.000000e+00</td>\n",
              "      <td>2.000000e+00</td>\n",
              "      <td>3.000000e+00</td>\n",
              "      <td>0.000000e+00</td>\n",
              "    </tr>\n",
              "    <tr>\n",
              "      <th>75%</th>\n",
              "      <td>2015.0</td>\n",
              "      <td>9.000000e+00</td>\n",
              "      <td>2.300000e+01</td>\n",
              "      <td>6.000000e+00</td>\n",
              "      <td>3.230000e+03</td>\n",
              "      <td>1.730000e+03</td>\n",
              "      <td>1.740000e+03</td>\n",
              "      <td>7.000000e+00</td>\n",
              "      <td>1.900000e+01</td>\n",
              "      <td>1.754000e+03</td>\n",
              "      <td>1.730000e+02</td>\n",
              "      <td>1.680000e+02</td>\n",
              "      <td>1.440000e+02</td>\n",
              "      <td>1.062000e+03</td>\n",
              "      <td>1.911000e+03</td>\n",
              "      <td>9.000000e+00</td>\n",
              "      <td>1.918000e+03</td>\n",
              "      <td>1.917000e+03</td>\n",
              "      <td>8.000000e+00</td>\n",
              "      <td>0.000000e+00</td>\n",
              "      <td>0.000000e+00</td>\n",
              "      <td>1.800000e+01</td>\n",
              "      <td>0.000000e+00</td>\n",
              "      <td>1.900000e+01</td>\n",
              "      <td>2.900000e+01</td>\n",
              "      <td>0.000000e+00</td>\n",
              "    </tr>\n",
              "    <tr>\n",
              "      <th>max</th>\n",
              "      <td>2015.0</td>\n",
              "      <td>1.200000e+01</td>\n",
              "      <td>3.100000e+01</td>\n",
              "      <td>7.000000e+00</td>\n",
              "      <td>9.855000e+03</td>\n",
              "      <td>2.359000e+03</td>\n",
              "      <td>2.400000e+03</td>\n",
              "      <td>1.988000e+03</td>\n",
              "      <td>2.250000e+02</td>\n",
              "      <td>2.400000e+03</td>\n",
              "      <td>7.180000e+02</td>\n",
              "      <td>7.660000e+02</td>\n",
              "      <td>6.900000e+02</td>\n",
              "      <td>4.983000e+03</td>\n",
              "      <td>2.400000e+03</td>\n",
              "      <td>2.480000e+02</td>\n",
              "      <td>2.400000e+03</td>\n",
              "      <td>2.400000e+03</td>\n",
              "      <td>1.971000e+03</td>\n",
              "      <td>1.000000e+00</td>\n",
              "      <td>1.000000e+00</td>\n",
              "      <td>1.134000e+03</td>\n",
              "      <td>5.730000e+02</td>\n",
              "      <td>1.971000e+03</td>\n",
              "      <td>1.331000e+03</td>\n",
              "      <td>1.211000e+03</td>\n",
              "    </tr>\n",
              "  </tbody>\n",
              "</table>\n",
              "</div>"
            ],
            "text/plain": [
              "            YEAR         MONTH           DAY   DAY_OF_WEEK  FLIGHT_NUMBER  SCHEDULED_DEPARTURE  DEPARTURE_TIME  DEPARTURE_DELAY      TAXI_OUT    WHEELS_OFF  SCHEDULED_TIME  ELAPSED_TIME      AIR_TIME      DISTANCE     WHEELS_ON       TAXI_IN  SCHEDULED_ARRIVAL  ARRIVAL_TIME  ARRIVAL_DELAY      DIVERTED     CANCELLED  AIR_SYSTEM_DELAY  SECURITY_DELAY  AIRLINE_DELAY  LATE_AIRCRAFT_DELAY  WEATHER_DELAY\n",
              "count  5819079.0  5.819079e+06  5.819079e+06  5.819079e+06   5.819079e+06         5.819079e+06    5.732926e+06     5.732926e+06  5.730032e+06  5.730032e+06    5.819073e+06  5.714008e+06  5.714008e+06  5.819079e+06  5.726566e+06  5.726566e+06       5.819079e+06  5.726566e+06   5.714008e+06  5.819079e+06  5.819079e+06      1.063439e+06    1.063439e+06   1.063439e+06         1.063439e+06   1.063439e+06\n",
              "mean      2015.0  6.524085e+00  1.570459e+01  3.926941e+00   2.173093e+03         1.329602e+03    1.335204e+03     9.370158e+00  1.607166e+01  1.357171e+03    1.416859e+02  1.370062e+02  1.135116e+02  8.223565e+02  1.471469e+03  7.434971e+00       1.493808e+03  1.476491e+03   4.407057e+00  2.609863e-03  1.544643e-02      1.348057e+01    7.615387e-02   1.896955e+01         2.347284e+01   2.915290e+00\n",
              "std          0.0  3.405137e+00  8.783425e+00  1.988845e+00   1.757064e+03         4.837518e+02    4.964233e+02     3.708094e+01  8.895574e+00  4.980094e+02    7.521058e+01  7.421107e+01  7.223082e+01  6.077843e+02  5.221879e+02  5.638548e+00       5.071647e+02  5.263197e+02   3.927130e+01  5.102012e-02  1.233201e-01      2.800368e+01    2.143460e+00   4.816164e+01         4.319702e+01   2.043334e+01\n",
              "min       2015.0  1.000000e+00  1.000000e+00  1.000000e+00   1.000000e+00         1.000000e+00    1.000000e+00    -8.200000e+01  1.000000e+00  1.000000e+00    1.800000e+01  1.400000e+01  7.000000e+00  2.100000e+01  1.000000e+00  1.000000e+00       1.000000e+00  1.000000e+00  -8.700000e+01  0.000000e+00  0.000000e+00      0.000000e+00    0.000000e+00   0.000000e+00         0.000000e+00   0.000000e+00\n",
              "25%       2015.0  4.000000e+00  8.000000e+00  2.000000e+00   7.300000e+02         9.170000e+02    9.210000e+02    -5.000000e+00  1.100000e+01  9.350000e+02    8.500000e+01  8.200000e+01  6.000000e+01  3.730000e+02  1.054000e+03  4.000000e+00       1.110000e+03  1.059000e+03  -1.300000e+01  0.000000e+00  0.000000e+00      0.000000e+00    0.000000e+00   0.000000e+00         0.000000e+00   0.000000e+00\n",
              "50%       2015.0  7.000000e+00  1.600000e+01  4.000000e+00   1.690000e+03         1.325000e+03    1.330000e+03    -2.000000e+00  1.400000e+01  1.343000e+03    1.230000e+02  1.180000e+02  9.400000e+01  6.470000e+02  1.509000e+03  6.000000e+00       1.520000e+03  1.512000e+03  -5.000000e+00  0.000000e+00  0.000000e+00      2.000000e+00    0.000000e+00   2.000000e+00         3.000000e+00   0.000000e+00\n",
              "75%       2015.0  9.000000e+00  2.300000e+01  6.000000e+00   3.230000e+03         1.730000e+03    1.740000e+03     7.000000e+00  1.900000e+01  1.754000e+03    1.730000e+02  1.680000e+02  1.440000e+02  1.062000e+03  1.911000e+03  9.000000e+00       1.918000e+03  1.917000e+03   8.000000e+00  0.000000e+00  0.000000e+00      1.800000e+01    0.000000e+00   1.900000e+01         2.900000e+01   0.000000e+00\n",
              "max       2015.0  1.200000e+01  3.100000e+01  7.000000e+00   9.855000e+03         2.359000e+03    2.400000e+03     1.988000e+03  2.250000e+02  2.400000e+03    7.180000e+02  7.660000e+02  6.900000e+02  4.983000e+03  2.400000e+03  2.480000e+02       2.400000e+03  2.400000e+03   1.971000e+03  1.000000e+00  1.000000e+00      1.134000e+03    5.730000e+02   1.971000e+03         1.331000e+03   1.211000e+03"
            ]
          },
          "metadata": {
            "tags": []
          },
          "execution_count": 4
        }
      ]
    },
    {
      "cell_type": "markdown",
      "metadata": {
        "id": "3BooXY6g8WCi",
        "colab_type": "text"
      },
      "source": [
        "**Initial Review of Dataset & Limitations of the Model:** The data has 5,819,079 rows and 31 columns. The data includes columns for departure year, month, day, and time (0100-2359).  The average arrival delay across the dataset is only 4 minutes. \n",
        "\n",
        "The model will **not** include analysis based upon day, since these features are less flexible. However, we will convert departure time to categorical three-hour intervals. The other features will include month, day of the week, scheduled departure, airline, origin airport, destination airport, airtime, scheduled arrival time, and distance. The model will not address day of the month or the reason for the delay (which is specified in the data set). These and other columns will be dropped before further EDA. \n",
        "\n",
        "The target will be arrival delay, converted to a binary on-time/late, based upon a specific cut-off specified below. "
      ]
    },
    {
      "cell_type": "code",
      "metadata": {
        "id": "Mc5iMgtD8WCi",
        "colab_type": "code",
        "colab": {}
      },
      "source": [
        "df2 = df.drop(['YEAR', 'DAY', 'TAIL_NUMBER', 'FLIGHT_NUMBER', 'DEPARTURE_TIME', \n",
        "               'DEPARTURE_DELAY', 'TAXI_OUT', 'WHEELS_OFF', 'SCHEDULED_TIME', \n",
        "               'ELAPSED_TIME', 'WHEELS_ON', 'TAXI_IN', 'ARRIVAL_TIME', 'DIVERTED', \n",
        "               'CANCELLED', 'AIR_SYSTEM_DELAY', 'SECURITY_DELAY', 'AIRLINE_DELAY', \n",
        "               'LATE_AIRCRAFT_DELAY', 'WEATHER_DELAY', 'CANCELLATION_REASON'], axis = 1)"
      ],
      "execution_count": 5,
      "outputs": []
    },
    {
      "cell_type": "code",
      "metadata": {
        "id": "LJrPR-DV8WCk",
        "colab_type": "code",
        "colab": {
          "base_uri": "https://localhost:8080/",
          "height": 224
        },
        "outputId": "2a1048ac-7f5b-43f4-8af7-8cd9a9729d2f"
      },
      "source": [
        "df2.head()"
      ],
      "execution_count": 6,
      "outputs": [
        {
          "output_type": "execute_result",
          "data": {
            "text/html": [
              "<div>\n",
              "<style scoped>\n",
              "    .dataframe tbody tr th:only-of-type {\n",
              "        vertical-align: middle;\n",
              "    }\n",
              "\n",
              "    .dataframe tbody tr th {\n",
              "        vertical-align: top;\n",
              "    }\n",
              "\n",
              "    .dataframe thead th {\n",
              "        text-align: right;\n",
              "    }\n",
              "</style>\n",
              "<table border=\"1\" class=\"dataframe\">\n",
              "  <thead>\n",
              "    <tr style=\"text-align: right;\">\n",
              "      <th></th>\n",
              "      <th>MONTH</th>\n",
              "      <th>DAY_OF_WEEK</th>\n",
              "      <th>AIRLINE</th>\n",
              "      <th>ORIGIN_AIRPORT</th>\n",
              "      <th>DESTINATION_AIRPORT</th>\n",
              "      <th>SCHEDULED_DEPARTURE</th>\n",
              "      <th>AIR_TIME</th>\n",
              "      <th>DISTANCE</th>\n",
              "      <th>SCHEDULED_ARRIVAL</th>\n",
              "      <th>ARRIVAL_DELAY</th>\n",
              "    </tr>\n",
              "  </thead>\n",
              "  <tbody>\n",
              "    <tr>\n",
              "      <th>0</th>\n",
              "      <td>1</td>\n",
              "      <td>4</td>\n",
              "      <td>AS</td>\n",
              "      <td>ANC</td>\n",
              "      <td>SEA</td>\n",
              "      <td>5</td>\n",
              "      <td>169.0</td>\n",
              "      <td>1448</td>\n",
              "      <td>430</td>\n",
              "      <td>-22.0</td>\n",
              "    </tr>\n",
              "    <tr>\n",
              "      <th>1</th>\n",
              "      <td>1</td>\n",
              "      <td>4</td>\n",
              "      <td>AA</td>\n",
              "      <td>LAX</td>\n",
              "      <td>PBI</td>\n",
              "      <td>10</td>\n",
              "      <td>263.0</td>\n",
              "      <td>2330</td>\n",
              "      <td>750</td>\n",
              "      <td>-9.0</td>\n",
              "    </tr>\n",
              "    <tr>\n",
              "      <th>2</th>\n",
              "      <td>1</td>\n",
              "      <td>4</td>\n",
              "      <td>US</td>\n",
              "      <td>SFO</td>\n",
              "      <td>CLT</td>\n",
              "      <td>20</td>\n",
              "      <td>266.0</td>\n",
              "      <td>2296</td>\n",
              "      <td>806</td>\n",
              "      <td>5.0</td>\n",
              "    </tr>\n",
              "    <tr>\n",
              "      <th>3</th>\n",
              "      <td>1</td>\n",
              "      <td>4</td>\n",
              "      <td>AA</td>\n",
              "      <td>LAX</td>\n",
              "      <td>MIA</td>\n",
              "      <td>20</td>\n",
              "      <td>258.0</td>\n",
              "      <td>2342</td>\n",
              "      <td>805</td>\n",
              "      <td>-9.0</td>\n",
              "    </tr>\n",
              "    <tr>\n",
              "      <th>4</th>\n",
              "      <td>1</td>\n",
              "      <td>4</td>\n",
              "      <td>AS</td>\n",
              "      <td>SEA</td>\n",
              "      <td>ANC</td>\n",
              "      <td>25</td>\n",
              "      <td>199.0</td>\n",
              "      <td>1448</td>\n",
              "      <td>320</td>\n",
              "      <td>-21.0</td>\n",
              "    </tr>\n",
              "  </tbody>\n",
              "</table>\n",
              "</div>"
            ],
            "text/plain": [
              "   MONTH  DAY_OF_WEEK AIRLINE ORIGIN_AIRPORT DESTINATION_AIRPORT  SCHEDULED_DEPARTURE  AIR_TIME  DISTANCE  SCHEDULED_ARRIVAL  ARRIVAL_DELAY\n",
              "0      1            4      AS            ANC                 SEA                    5     169.0      1448                430          -22.0\n",
              "1      1            4      AA            LAX                 PBI                   10     263.0      2330                750           -9.0\n",
              "2      1            4      US            SFO                 CLT                   20     266.0      2296                806            5.0\n",
              "3      1            4      AA            LAX                 MIA                   20     258.0      2342                805           -9.0\n",
              "4      1            4      AS            SEA                 ANC                   25     199.0      1448                320          -21.0"
            ]
          },
          "metadata": {
            "tags": []
          },
          "execution_count": 6
        }
      ]
    },
    {
      "cell_type": "code",
      "metadata": {
        "id": "xq1heQce8WCn",
        "colab_type": "code",
        "colab": {
          "base_uri": "https://localhost:8080/",
          "height": 306
        },
        "outputId": "b2729f78-d1b3-47fc-9796-a0070e0a80ec"
      },
      "source": [
        "df2.info()"
      ],
      "execution_count": 7,
      "outputs": [
        {
          "output_type": "stream",
          "text": [
            "<class 'pandas.core.frame.DataFrame'>\n",
            "RangeIndex: 5819079 entries, 0 to 5819078\n",
            "Data columns (total 10 columns):\n",
            " #   Column               Dtype  \n",
            "---  ------               -----  \n",
            " 0   MONTH                int64  \n",
            " 1   DAY_OF_WEEK          int64  \n",
            " 2   AIRLINE              object \n",
            " 3   ORIGIN_AIRPORT       object \n",
            " 4   DESTINATION_AIRPORT  object \n",
            " 5   SCHEDULED_DEPARTURE  int64  \n",
            " 6   AIR_TIME             float64\n",
            " 7   DISTANCE             int64  \n",
            " 8   SCHEDULED_ARRIVAL    int64  \n",
            " 9   ARRIVAL_DELAY        float64\n",
            "dtypes: float64(2), int64(5), object(3)\n",
            "memory usage: 444.0+ MB\n"
          ],
          "name": "stdout"
        }
      ]
    },
    {
      "cell_type": "code",
      "metadata": {
        "id": "ioklQt-PXQxi",
        "colab_type": "code",
        "colab": {}
      },
      "source": [
        "#Change objects to strings:\n",
        "\n",
        "df2.AIRLINE = df.AIRLINE.astype('str')"
      ],
      "execution_count": 8,
      "outputs": []
    },
    {
      "cell_type": "code",
      "metadata": {
        "id": "PjWX9GFJXQZ4",
        "colab_type": "code",
        "colab": {
          "base_uri": "https://localhost:8080/",
          "height": 306
        },
        "outputId": "62ec6dff-0d54-458d-c902-68462801b371"
      },
      "source": [
        "df2.info()"
      ],
      "execution_count": 9,
      "outputs": [
        {
          "output_type": "stream",
          "text": [
            "<class 'pandas.core.frame.DataFrame'>\n",
            "RangeIndex: 5819079 entries, 0 to 5819078\n",
            "Data columns (total 10 columns):\n",
            " #   Column               Dtype  \n",
            "---  ------               -----  \n",
            " 0   MONTH                int64  \n",
            " 1   DAY_OF_WEEK          int64  \n",
            " 2   AIRLINE              object \n",
            " 3   ORIGIN_AIRPORT       object \n",
            " 4   DESTINATION_AIRPORT  object \n",
            " 5   SCHEDULED_DEPARTURE  int64  \n",
            " 6   AIR_TIME             float64\n",
            " 7   DISTANCE             int64  \n",
            " 8   SCHEDULED_ARRIVAL    int64  \n",
            " 9   ARRIVAL_DELAY        float64\n",
            "dtypes: float64(2), int64(5), object(3)\n",
            "memory usage: 444.0+ MB\n"
          ],
          "name": "stdout"
        }
      ]
    },
    {
      "cell_type": "code",
      "metadata": {
        "id": "7cb05WIL8WCq",
        "colab_type": "code",
        "colab": {
          "base_uri": "https://localhost:8080/",
          "height": 204
        },
        "outputId": "3f5e2829-8c25-4c7d-ae4f-b5a50e46c185"
      },
      "source": [
        "df2.isna().any()"
      ],
      "execution_count": 10,
      "outputs": [
        {
          "output_type": "execute_result",
          "data": {
            "text/plain": [
              "MONTH                  False\n",
              "DAY_OF_WEEK            False\n",
              "AIRLINE                False\n",
              "ORIGIN_AIRPORT         False\n",
              "DESTINATION_AIRPORT    False\n",
              "SCHEDULED_DEPARTURE    False\n",
              "AIR_TIME                True\n",
              "DISTANCE               False\n",
              "SCHEDULED_ARRIVAL      False\n",
              "ARRIVAL_DELAY           True\n",
              "dtype: bool"
            ]
          },
          "metadata": {
            "tags": []
          },
          "execution_count": 10
        }
      ]
    },
    {
      "cell_type": "markdown",
      "metadata": {
        "id": "P3AjGC5q8WCs",
        "colab_type": "text"
      },
      "source": [
        "**Initial Review:** Month ranges from 1-12, Day of Week ranges from 1-7, and Scheduled Departure and Scheduled Arrival both range from 0100-1259 (all expected and make sense). Air Time averages 113 minutes, with a high max (690 minutes, or 11.5 hours); some research reveals this is expected (Boston to Hawaii).  \n",
        "\n",
        "More significantly, Arrival_Delay and Air_Time have significantly fewer rows than the full dataset (5.714 million compared to 5.819 million, or 1.8% fewer). This is explored below: "
      ]
    },
    {
      "cell_type": "code",
      "metadata": {
        "scrolled": true,
        "id": "eusgN49k8WCs",
        "colab_type": "code",
        "colab": {
          "base_uri": "https://localhost:8080/",
          "height": 85
        },
        "outputId": "8a9cb77f-bf24-4586-e595-fa776f086549"
      },
      "source": [
        "diff = df2.MONTH.count() - df2.AIR_TIME.count()\n",
        "can = len(df[df.CANCELLED == 1])\n",
        "div = len(df[df.DIVERTED == 1])\n",
        "comb = can + div\n",
        "\n",
        "print(\"\"\"Columns Arrival_Delay and Air_Time both have {diff} fewer entries than the \n",
        "other columns. This is likely a combination of cancellations (n={can}) and \n",
        "diverted flights (n={div}).  The combined total ({comb}) equals the offset.  \n",
        "Accordingly, we will drop any rows with NaNs in Air_Time and Arrival_Delay:\"\"\".format(\n",
        "    diff=diff, \n",
        "    can=can, \n",
        "    div=div, \n",
        "    comb=comb))"
      ],
      "execution_count": 11,
      "outputs": [
        {
          "output_type": "stream",
          "text": [
            "Columns Arrival_Delay and Air_Time both have 105071 fewer entries than the \n",
            "other columns. This is likely a combination of cancellations (n=89884) and \n",
            "diverted flights (n=15187).  The combined total (105071) equals the offset.  \n",
            "Accordingly, we will drop any rows with NaNs in Air_Time and Arrival_Delay:\n"
          ],
          "name": "stdout"
        }
      ]
    },
    {
      "cell_type": "code",
      "metadata": {
        "id": "7jiWgicI8WCv",
        "colab_type": "code",
        "colab": {
          "base_uri": "https://localhost:8080/",
          "height": 204
        },
        "outputId": "77a43aaa-8cac-4083-c7f8-5369852ecb08"
      },
      "source": [
        "df3 = df2.dropna(axis=0)\n",
        "df3.isna().any()"
      ],
      "execution_count": 12,
      "outputs": [
        {
          "output_type": "execute_result",
          "data": {
            "text/plain": [
              "MONTH                  False\n",
              "DAY_OF_WEEK            False\n",
              "AIRLINE                False\n",
              "ORIGIN_AIRPORT         False\n",
              "DESTINATION_AIRPORT    False\n",
              "SCHEDULED_DEPARTURE    False\n",
              "AIR_TIME               False\n",
              "DISTANCE               False\n",
              "SCHEDULED_ARRIVAL      False\n",
              "ARRIVAL_DELAY          False\n",
              "dtype: bool"
            ]
          },
          "metadata": {
            "tags": []
          },
          "execution_count": 12
        }
      ]
    },
    {
      "cell_type": "code",
      "metadata": {
        "id": "Ul1UXImubYiH",
        "colab_type": "code",
        "colab": {
          "base_uri": "https://localhost:8080/",
          "height": 306
        },
        "outputId": "2fdf056b-8800-4ebc-9bd4-d65bd6089508"
      },
      "source": [
        "df3.info()"
      ],
      "execution_count": 13,
      "outputs": [
        {
          "output_type": "stream",
          "text": [
            "<class 'pandas.core.frame.DataFrame'>\n",
            "Int64Index: 5714008 entries, 0 to 5819078\n",
            "Data columns (total 10 columns):\n",
            " #   Column               Dtype  \n",
            "---  ------               -----  \n",
            " 0   MONTH                int64  \n",
            " 1   DAY_OF_WEEK          int64  \n",
            " 2   AIRLINE              object \n",
            " 3   ORIGIN_AIRPORT       object \n",
            " 4   DESTINATION_AIRPORT  object \n",
            " 5   SCHEDULED_DEPARTURE  int64  \n",
            " 6   AIR_TIME             float64\n",
            " 7   DISTANCE             int64  \n",
            " 8   SCHEDULED_ARRIVAL    int64  \n",
            " 9   ARRIVAL_DELAY        float64\n",
            "dtypes: float64(2), int64(5), object(3)\n",
            "memory usage: 479.5+ MB\n"
          ],
          "name": "stdout"
        }
      ]
    },
    {
      "cell_type": "markdown",
      "metadata": {
        "id": "MGQJNji08WCx",
        "colab_type": "text"
      },
      "source": [
        "**Making the Departure Times Categorical:** Leaving the departure times as continuous will cause the model to select a threshold departure time. We would rather have it treat different departure thresholds as individual predictors, as separate categories, in eight, three-hour increments (i.e., 00:00-02:59, 03:00-05:59, etc.).  This is done below, with each three-hour period beginning at the referenced hour."
      ]
    },
    {
      "cell_type": "code",
      "metadata": {
        "id": "PZmD84W-8WCx",
        "colab_type": "code",
        "colab": {}
      },
      "source": [
        "for i in range (0,8):\n",
        "    df3.loc[(df['SCHEDULED_DEPARTURE'] >= (i*300)) & \n",
        "            (df['SCHEDULED_DEPARTURE'] < ((i+1)*300)), \n",
        "            'SCHEDULED_DEPARTURE'] = i*3"
      ],
      "execution_count": 14,
      "outputs": []
    },
    {
      "cell_type": "code",
      "metadata": {
        "id": "dn1hef658WCz",
        "colab_type": "code",
        "colab": {
          "base_uri": "https://localhost:8080/",
          "height": 34
        },
        "outputId": "4d8f0ff3-be7d-4e35-88a9-31b89b58003a"
      },
      "source": [
        "df3.shape"
      ],
      "execution_count": 15,
      "outputs": [
        {
          "output_type": "execute_result",
          "data": {
            "text/plain": [
              "(5714008, 10)"
            ]
          },
          "metadata": {
            "tags": []
          },
          "execution_count": 15
        }
      ]
    },
    {
      "cell_type": "markdown",
      "metadata": {
        "id": "ghA_NnUJ8WC1",
        "colab_type": "text"
      },
      "source": [
        "Preprocessing looks good.  We'll move on to setting up the target.\n",
        "\n",
        "### INPUT \"LATE\" THRESHOLD in MINUTES:\n",
        "\n",
        "The model will use a threshold for a flight being considered \"late\", \n",
        "between 0 and 60 minutes (default is 0 minutes; __all discussion below is based upon a zero-minutes-late threshold__).  "
      ]
    },
    {
      "cell_type": "code",
      "metadata": {
        "id": "s9XTh8Hy8WC1",
        "colab_type": "code",
        "colab": {
          "base_uri": "https://localhost:8080/",
          "height": 85
        },
        "outputId": "d029ca42-3796-414b-8d72-01a97977e87b"
      },
      "source": [
        "while True:\n",
        "    try:\n",
        "        threshold = int(input(\"Enter the late threshold (minutes 0-60):\"))\n",
        "        break\n",
        "    except ValueError: \n",
        "        threshold = 0\n",
        "if threshold > 60:\n",
        "    threshold = 60\n",
        "if threshold < 0:\n",
        "    threshold = 0\n",
        "print(\"\\nThe model will use a threshold of\",threshold,\"minutes.\")"
      ],
      "execution_count": 16,
      "outputs": [
        {
          "output_type": "stream",
          "text": [
            "Enter the late threshold (minutes 0-60):\n",
            "Enter the late threshold (minutes 0-60):0\n",
            "\n",
            "The model will use a threshold of 0 minutes.\n"
          ],
          "name": "stdout"
        }
      ]
    },
    {
      "cell_type": "code",
      "metadata": {
        "id": "f4if2uXP8WC3",
        "colab_type": "code",
        "colab": {
          "base_uri": "https://localhost:8080/",
          "height": 224
        },
        "outputId": "f2a54ade-882a-4dc3-d113-fffe0b2466d0"
      },
      "source": [
        "#convert the target into a binary for on-time/late based upon the \"threshold\" value\n",
        "df3.loc[df['ARRIVAL_DELAY'] <= threshold, 'ARRIVAL_DELAY'] = 0\n",
        "df3.loc[df['ARRIVAL_DELAY'] > threshold, 'ARRIVAL_DELAY'] = 1\n",
        "df3.head()"
      ],
      "execution_count": 18,
      "outputs": [
        {
          "output_type": "execute_result",
          "data": {
            "text/html": [
              "<div>\n",
              "<style scoped>\n",
              "    .dataframe tbody tr th:only-of-type {\n",
              "        vertical-align: middle;\n",
              "    }\n",
              "\n",
              "    .dataframe tbody tr th {\n",
              "        vertical-align: top;\n",
              "    }\n",
              "\n",
              "    .dataframe thead th {\n",
              "        text-align: right;\n",
              "    }\n",
              "</style>\n",
              "<table border=\"1\" class=\"dataframe\">\n",
              "  <thead>\n",
              "    <tr style=\"text-align: right;\">\n",
              "      <th></th>\n",
              "      <th>MONTH</th>\n",
              "      <th>DAY_OF_WEEK</th>\n",
              "      <th>AIRLINE</th>\n",
              "      <th>ORIGIN_AIRPORT</th>\n",
              "      <th>DESTINATION_AIRPORT</th>\n",
              "      <th>SCHEDULED_DEPARTURE</th>\n",
              "      <th>AIR_TIME</th>\n",
              "      <th>DISTANCE</th>\n",
              "      <th>SCHEDULED_ARRIVAL</th>\n",
              "      <th>ARRIVAL_DELAY</th>\n",
              "    </tr>\n",
              "  </thead>\n",
              "  <tbody>\n",
              "    <tr>\n",
              "      <th>0</th>\n",
              "      <td>1</td>\n",
              "      <td>4</td>\n",
              "      <td>AS</td>\n",
              "      <td>ANC</td>\n",
              "      <td>SEA</td>\n",
              "      <td>0</td>\n",
              "      <td>169.0</td>\n",
              "      <td>1448</td>\n",
              "      <td>430</td>\n",
              "      <td>0.0</td>\n",
              "    </tr>\n",
              "    <tr>\n",
              "      <th>1</th>\n",
              "      <td>1</td>\n",
              "      <td>4</td>\n",
              "      <td>AA</td>\n",
              "      <td>LAX</td>\n",
              "      <td>PBI</td>\n",
              "      <td>0</td>\n",
              "      <td>263.0</td>\n",
              "      <td>2330</td>\n",
              "      <td>750</td>\n",
              "      <td>0.0</td>\n",
              "    </tr>\n",
              "    <tr>\n",
              "      <th>2</th>\n",
              "      <td>1</td>\n",
              "      <td>4</td>\n",
              "      <td>US</td>\n",
              "      <td>SFO</td>\n",
              "      <td>CLT</td>\n",
              "      <td>0</td>\n",
              "      <td>266.0</td>\n",
              "      <td>2296</td>\n",
              "      <td>806</td>\n",
              "      <td>1.0</td>\n",
              "    </tr>\n",
              "    <tr>\n",
              "      <th>3</th>\n",
              "      <td>1</td>\n",
              "      <td>4</td>\n",
              "      <td>AA</td>\n",
              "      <td>LAX</td>\n",
              "      <td>MIA</td>\n",
              "      <td>0</td>\n",
              "      <td>258.0</td>\n",
              "      <td>2342</td>\n",
              "      <td>805</td>\n",
              "      <td>0.0</td>\n",
              "    </tr>\n",
              "    <tr>\n",
              "      <th>4</th>\n",
              "      <td>1</td>\n",
              "      <td>4</td>\n",
              "      <td>AS</td>\n",
              "      <td>SEA</td>\n",
              "      <td>ANC</td>\n",
              "      <td>0</td>\n",
              "      <td>199.0</td>\n",
              "      <td>1448</td>\n",
              "      <td>320</td>\n",
              "      <td>0.0</td>\n",
              "    </tr>\n",
              "  </tbody>\n",
              "</table>\n",
              "</div>"
            ],
            "text/plain": [
              "   MONTH  DAY_OF_WEEK AIRLINE ORIGIN_AIRPORT DESTINATION_AIRPORT  SCHEDULED_DEPARTURE  AIR_TIME  DISTANCE  SCHEDULED_ARRIVAL  ARRIVAL_DELAY\n",
              "0      1            4      AS            ANC                 SEA                    0     169.0      1448                430            0.0\n",
              "1      1            4      AA            LAX                 PBI                    0     263.0      2330                750            0.0\n",
              "2      1            4      US            SFO                 CLT                    0     266.0      2296                806            1.0\n",
              "3      1            4      AA            LAX                 MIA                    0     258.0      2342                805            0.0\n",
              "4      1            4      AS            SEA                 ANC                    0     199.0      1448                320            0.0"
            ]
          },
          "metadata": {
            "tags": []
          },
          "execution_count": 18
        }
      ]
    },
    {
      "cell_type": "markdown",
      "metadata": {
        "id": "tutI2ibQ8WC7",
        "colab_type": "text"
      },
      "source": [
        "### Further Exploration:"
      ]
    },
    {
      "cell_type": "code",
      "metadata": {
        "id": "PhqFjN808WC7",
        "colab_type": "code",
        "colab": {
          "base_uri": "https://localhost:8080/",
          "height": 272
        },
        "outputId": "b0ede800-30d1-4116-d668-3993a1685f84"
      },
      "source": [
        "df3.AIRLINE.value_counts(normalize = True)"
      ],
      "execution_count": 19,
      "outputs": [
        {
          "output_type": "execute_result",
          "data": {
            "text/plain": [
              "WN    0.217431\n",
              "DL    0.152306\n",
              "AA    0.124770\n",
              "OO    0.100947\n",
              "EV    0.097086\n",
              "UA    0.088863\n",
              "MQ    0.048791\n",
              "B6    0.045860\n",
              "US    0.033991\n",
              "AS    0.030003\n",
              "NK    0.020160\n",
              "F9    0.015767\n",
              "HA    0.013308\n",
              "VX    0.010719\n",
              "Name: AIRLINE, dtype: float64"
            ]
          },
          "metadata": {
            "tags": []
          },
          "execution_count": 19
        }
      ]
    },
    {
      "cell_type": "markdown",
      "metadata": {
        "id": "VFm_mED88WC-",
        "colab_type": "text"
      },
      "source": [
        "__Analysis:__  Eight airlines constitute less than 5% of the total flights each, but nearly 22% of the total flights. The lowest five combined constitute 9% of the total. It may probably make more sense to drop the rows with the five least-frequently used airlines, purely to simplify the model (AS (Alaska Airlines), NK (Spirit Airlines), F9 (Frontier Airlines), HA (Hawaiian Airlines), and VX (Virgin America)). However, these airlines are/were significant players with regard to answering the question posed. It may make sense to simplify the model via dropping airports instead; this is explored below: "
      ]
    },
    {
      "cell_type": "code",
      "metadata": {
        "id": "IG2xBWo78WC_",
        "colab_type": "code",
        "colab": {
          "base_uri": "https://localhost:8080/",
          "height": 221
        },
        "outputId": "78ea4139-b0b5-4eb7-99f7-2b74d3858e40"
      },
      "source": [
        "# Review frquency of origin airports \n",
        "df3.ORIGIN_AIRPORT.value_counts(normalize = True)"
      ],
      "execution_count": 20,
      "outputs": [
        {
          "output_type": "execute_result",
          "data": {
            "text/plain": [
              "ATL      6.011647e-02\n",
              "ORD      4.839930e-02\n",
              "DFW      4.071520e-02\n",
              "DEN      3.384699e-02\n",
              "LAX      3.360216e-02\n",
              "             ...     \n",
              "15497    1.750085e-07\n",
              "14222    1.750085e-07\n",
              "13502    1.750085e-07\n",
              "14025    1.750085e-07\n",
              "11503    1.750085e-07\n",
              "Name: ORIGIN_AIRPORT, Length: 929, dtype: float64"
            ]
          },
          "metadata": {
            "tags": []
          },
          "execution_count": 20
        }
      ]
    },
    {
      "cell_type": "code",
      "metadata": {
        "id": "mRhZb4ps8WDB",
        "colab_type": "code",
        "colab": {
          "base_uri": "https://localhost:8080/",
          "height": 170
        },
        "outputId": "8aabc4f2-0de4-4cf3-b60f-45fd287f84b3"
      },
      "source": [
        "# Explore potential cut-offs for including origin airports\n",
        "\n",
        "for i in range(0,201,25):\n",
        "    total = df3.ORIGIN_AIRPORT.value_counts()>i\n",
        "    num = total.value_counts()\n",
        "    print ('Number of airports with more than',i,'flights:',num[1])"
      ],
      "execution_count": 21,
      "outputs": [
        {
          "output_type": "stream",
          "text": [
            "Number of airports with more than 0 flights: 929\n",
            "Number of airports with more than 25 flights: 731\n",
            "Number of airports with more than 50 flights: 675\n",
            "Number of airports with more than 75 flights: 621\n",
            "Number of airports with more than 100 flights: 587\n",
            "Number of airports with more than 125 flights: 563\n",
            "Number of airports with more than 150 flights: 546\n",
            "Number of airports with more than 175 flights: 533\n",
            "Number of airports with more than 200 flights: 514\n"
          ],
          "name": "stdout"
        }
      ]
    },
    {
      "cell_type": "markdown",
      "metadata": {
        "id": "9f1pDsY28WDF",
        "colab_type": "text"
      },
      "source": [
        "__Analysis:__ The most popular origin airport (Atlanta) has 6% of all originating flights, while the fifth most popular (Los Angeles) has 3.4%.  There are 929 origin airports total, many with the less frequent ones constituting .000000175 (or 1 flight each). \n",
        "\n",
        "Airports are categorized by the FAA into \"Primary\" and \"Non-Primary,\" a component of the later including Non-Primary Commercial Service. The Primary and Non-Primary Commercial Service in 2015 total 514 airports.*  Coincidentally, this is the same number of aiports in the dataset with more than 200 flights per day. However, in 2012, 99.8% of \"enplanements\" took place at the Primary airports (n = 389).  \n",
        "\n",
        "We created a list of the primary airports, and will select all rows from the dataset including airports in the list. \n",
        "\n",
        "\\* https://www.faa.gov/airports/planning_capacity/npias/reports/historical/media/2015/npias-2015-2019-report-narrative.pdf"
      ]
    },
    {
      "cell_type": "code",
      "metadata": {
        "id": "yXal3Yea8WDH",
        "colab_type": "code",
        "colab": {}
      },
      "source": [
        "primary_airports = ['BHM','DHN','HSV','MOB','MGM','MRI','ANC','ANI','BRW','BET','CDV','SCC','DLG','FAI','GAL','HOM',\n",
        "                    'JNU','ENA','KTN','AKN','ADQ','OTZ','OME','PSG','SIT','KSM','UNK','DUT','VDZ','WRG','YAK','IFP',\n",
        "                    'FLG','GCN','AZA','PGA','GCW','PHX','TUS','YUM','XNA','FSM','LIT','TXK','ACV','BFL','BUR','FAT',\n",
        "                    'LGB','LAX','MMH','MRY','OAK','ONT','SNA','PSP','RDD','SMF','SAN','SFO','SJC','SBP','SBA','SMX',\n",
        "                    'STS','SCK','ASE','COS','DEN','DRO','EGE','GJT','GUC','HDN','MTJ','BDL','HVN','ILG','DAB','FLL',\n",
        "                    'RSW','VPS','GNV','JAX','EYW','MLB','MIA','MCO','ECP','PNS','PGD','SFB','SRQ','UST','PIE','TLH',\n",
        "                    'TPA','PBI','ABY','ATL','AGS','BQK','CSG','SAV','VLD','ITO','HNL','OGG','KOA','MKK','LNY','LIH',\n",
        "                    'BOI','IDA','LWS','PIH','SUN','TWF','BLV','BMI','CMI','ORD','MDW','MWA','MLI','PIA','UIN','RFD',\n",
        "                    'SPI','EVV','FWA','IND','SBN','CID','DSM','DBQ','SUX','ALO','GCK','MHK','FOE','ICT','CVG','LEX',\n",
        "                    'SDF','OWB','PAH','AEX','BTR','LFT','LCH','MLU','MSY','SHV','BGR','PWM','PQI','RKD','BWI','HGR',\n",
        "                    'SBY','BOS','HYA','ACK','PVC','MVY','ORH','BJI','BRD','DLH','HIB','INL','MSP','RST','STC','GTR',\n",
        "                    'GPT','JAN','COU','JLN','MCI','SGF','STL','BIL','BZN','BTM','GTF','HLN','FCA','MSO','SDY','GRI',\n",
        "                    'LNK','OMA','BLD','EKO','LAS','VGT','RNO','LEB','MHT','PSM','ACY','TTN','EWR','ABQ','HOB','ROW',\n",
        "                    'SAF','ALB','BGM','BUF','ELM','FRG','ISP','ITH','JFK','LGA','SWF','IAG','PBG','ROC','SYR','ART',\n",
        "                    'HPN','AVL','CLT','USA','FAY','GSO','PGV','OAJ','EWN','RDU','ILM','BIS','DIK','FAR','GFK','MOT',\n",
        "                    'XWA','DVL','JMS','CAK','LUK','CLE','CMH','LCK','DAY','TOL','YNG','LAW','OKC','TUL','EUG','MFR',\n",
        "                    'OTH','PDX','RDM','ABE','ERI','MDT','LBE','PHL','PIT','SCE','AVP','IPT','BID','PVD','WST','CHS',\n",
        "                    'CAE','FLO','GSP','HHH','MYR','ABR','RAP','FSD','CHA','TYS','MEM','BNA','TRI','ABI','AMA','AUS',\n",
        "                    'BPT','BRO','CLL','CRP','DAL','DFW','ELP','HRL','IAH','HOU','GRK','LRD','GGG','LBB','MFE','MAF',\n",
        "                    'SJT','SAT','TYR','ACT','SPS','CDC','OGD','PVU','SLC','SGU','BTV','CHO','LYH','PHF','ORF','RIC',\n",
        "                    'ROA','DCA','IAD','BLI','FRD','PSC','PUW','BFI','SEA','GEG','ALW','EAT','YKM','CRW','CKB','HTS',\n",
        "                    'MGW','ATW','EAU','GRB','LSE','MSN','MKE','CWA','RHI','CPR','COD','GCC','JAC','LAR','RKS','APN',\n",
        "                    'DTW','ESC','FNT','GRR','CMX','IMT','AZO','LAN','MQT','MKG','PLN','MBS','CIU','TVC','PPG','GUM',\n",
        "                    'SPN','ROP','TIQ','BQN','NRR','CPX','PSE','SJU','SIG','VQS','STT','STX','IATA']"
      ],
      "execution_count": 22,
      "outputs": []
    },
    {
      "cell_type": "code",
      "metadata": {
        "id": "TTXr2Gzv8WDJ",
        "colab_type": "code",
        "colab": {
          "base_uri": "https://localhost:8080/",
          "height": 306
        },
        "outputId": "f9d199b8-2afd-4917-8e08-b6e5d8d56461"
      },
      "source": [
        "# Limit DF to include only those aiports in the primary_airpots list\n",
        "df4 = df3.loc[df3['ORIGIN_AIRPORT'].isin(primary_airports)]\n",
        "df4.info()"
      ],
      "execution_count": 23,
      "outputs": [
        {
          "output_type": "stream",
          "text": [
            "<class 'pandas.core.frame.DataFrame'>\n",
            "Int64Index: 5224812 entries, 0 to 5819078\n",
            "Data columns (total 10 columns):\n",
            " #   Column               Dtype  \n",
            "---  ------               -----  \n",
            " 0   MONTH                int64  \n",
            " 1   DAY_OF_WEEK          int64  \n",
            " 2   AIRLINE              object \n",
            " 3   ORIGIN_AIRPORT       object \n",
            " 4   DESTINATION_AIRPORT  object \n",
            " 5   SCHEDULED_DEPARTURE  int64  \n",
            " 6   AIR_TIME             float64\n",
            " 7   DISTANCE             int64  \n",
            " 8   SCHEDULED_ARRIVAL    int64  \n",
            " 9   ARRIVAL_DELAY        float64\n",
            "dtypes: float64(2), int64(5), object(3)\n",
            "memory usage: 438.5+ MB\n"
          ],
          "name": "stdout"
        }
      ]
    },
    {
      "cell_type": "code",
      "metadata": {
        "id": "fL92byNvLRmK",
        "colab_type": "code",
        "colab": {
          "base_uri": "https://localhost:8080/",
          "height": 68
        },
        "outputId": "9cdc1abb-6c1a-48f9-8746-2405863a4680"
      },
      "source": [
        "print(\"\"\"Results:\\nReduction in rows from {indf3} to {indf4}; \n",
        "Reduction in Origin Airports from {all} to {primary}\"\"\".format(indf3 = len(df3.index), indf4 = len(df4.index), \n",
        "                                                              all = df3.ORIGIN_AIRPORT.nunique(),\n",
        "                                                              primary = df4.ORIGIN_AIRPORT.nunique()))"
      ],
      "execution_count": 24,
      "outputs": [
        {
          "output_type": "stream",
          "text": [
            "Results:\n",
            "Reduction in rows from 5714008 to 5224812; \n",
            "Reduction in Origin Airports from 929 to 310\n"
          ],
          "name": "stdout"
        }
      ]
    },
    {
      "cell_type": "markdown",
      "metadata": {
        "id": "DhkMz2m0W9MB",
        "colab_type": "text"
      },
      "source": [
        "## __Further Reduction is Required__\n",
        "\n",
        "After one-hot encoding and attempting to fit the classifier, the Colab notebook crashed ... even after upgrading the available RAM.  Accordingly, we will significantly reduce the size of the dataset in a few different ways.  \n",
        "* First, we'll reduce the time frame from January to June.  This will remove the holiday travel effect, hopefully so that a given day of the week is not biased (such as Wednesday getting undue attention simply because of the Wednesday before Thanksgiving).  \n",
        "* Second, we'll reduce the destination airports to the same list used in the Origin Airport feature. \n",
        "* Finally, if necessary, we'll look at reducing the airline list. "
      ]
    },
    {
      "cell_type": "code",
      "metadata": {
        "id": "v7WD5-5SW8tW",
        "colab_type": "code",
        "colab": {
          "base_uri": "https://localhost:8080/",
          "height": 306
        },
        "outputId": "93967ce1-ecb9-427d-bb7a-e2b231c76e61"
      },
      "source": [
        "# Limit the time frame to MONTH 1-6:\n",
        "months = [1,2,3,4,5,6]\n",
        "df5 = df4.loc[df4['MONTH'].isin(months)]\n",
        "df5.info()"
      ],
      "execution_count": 25,
      "outputs": [
        {
          "output_type": "stream",
          "text": [
            "<class 'pandas.core.frame.DataFrame'>\n",
            "Int64Index: 2814446 entries, 0 to 2889511\n",
            "Data columns (total 10 columns):\n",
            " #   Column               Dtype  \n",
            "---  ------               -----  \n",
            " 0   MONTH                int64  \n",
            " 1   DAY_OF_WEEK          int64  \n",
            " 2   AIRLINE              object \n",
            " 3   ORIGIN_AIRPORT       object \n",
            " 4   DESTINATION_AIRPORT  object \n",
            " 5   SCHEDULED_DEPARTURE  int64  \n",
            " 6   AIR_TIME             float64\n",
            " 7   DISTANCE             int64  \n",
            " 8   SCHEDULED_ARRIVAL    int64  \n",
            " 9   ARRIVAL_DELAY        float64\n",
            "dtypes: float64(2), int64(5), object(3)\n",
            "memory usage: 236.2+ MB\n"
          ],
          "name": "stdout"
        }
      ]
    },
    {
      "cell_type": "markdown",
      "metadata": {
        "id": "PdNr7pqXW8gA",
        "colab_type": "text"
      },
      "source": [
        "__Results:__ Noted that the memory usage has dropped from 438.5 MB to 236.2 MB.  "
      ]
    },
    {
      "cell_type": "code",
      "metadata": {
        "id": "OmA1xpV1W8SM",
        "colab_type": "code",
        "colab": {
          "base_uri": "https://localhost:8080/",
          "height": 306
        },
        "outputId": "acca8ffe-ac09-4184-f833-410e7f5266b8"
      },
      "source": [
        "# Limit destination airports to only those in the primary_airports list:\n",
        "df6 = df5.loc[df5['DESTINATION_AIRPORT'].isin(primary_airports)]\n",
        "df6.info()"
      ],
      "execution_count": 26,
      "outputs": [
        {
          "output_type": "stream",
          "text": [
            "<class 'pandas.core.frame.DataFrame'>\n",
            "Int64Index: 2810801 entries, 0 to 2889511\n",
            "Data columns (total 10 columns):\n",
            " #   Column               Dtype  \n",
            "---  ------               -----  \n",
            " 0   MONTH                int64  \n",
            " 1   DAY_OF_WEEK          int64  \n",
            " 2   AIRLINE              object \n",
            " 3   ORIGIN_AIRPORT       object \n",
            " 4   DESTINATION_AIRPORT  object \n",
            " 5   SCHEDULED_DEPARTURE  int64  \n",
            " 6   AIR_TIME             float64\n",
            " 7   DISTANCE             int64  \n",
            " 8   SCHEDULED_ARRIVAL    int64  \n",
            " 9   ARRIVAL_DELAY        float64\n",
            "dtypes: float64(2), int64(5), object(3)\n",
            "memory usage: 235.9+ MB\n"
          ],
          "name": "stdout"
        }
      ]
    },
    {
      "cell_type": "code",
      "metadata": {
        "id": "4woT7YHZW71y",
        "colab_type": "code",
        "colab": {
          "base_uri": "https://localhost:8080/",
          "height": 68
        },
        "outputId": "b5fdd0ba-de6d-49c2-a704-8eba887af788"
      },
      "source": [
        "print(\"\"\"Results:\\nReduction in rows from {indf5} to {indf6}; \n",
        "Reduction in Origin Airports from {d_all} to {d_primary}\"\"\".format(indf5 = len(df5.index), indf6 = len(df6.index), \n",
        "                                                              d_all = df5.DESTINATION_AIRPORT.nunique(),\n",
        "                                                              d_primary = df6.DESTINATION_AIRPORT.nunique()))"
      ],
      "execution_count": 27,
      "outputs": [
        {
          "output_type": "stream",
          "text": [
            "Results:\n",
            "Reduction in rows from 2814446 to 2810801; \n",
            "Reduction in Origin Airports from 321 to 310\n"
          ],
          "name": "stdout"
        }
      ]
    },
    {
      "cell_type": "markdown",
      "metadata": {
        "id": "VjRRLqoTW8EJ",
        "colab_type": "text"
      },
      "source": [
        "__Analysis:__ Noted relatively minor reduction in rows after limiting the destination airports, but a significant reduction in the memory usage from 438 MB to 236 MB.  "
      ]
    },
    {
      "cell_type": "markdown",
      "metadata": {
        "id": "wab6LrWohRvw",
        "colab_type": "text"
      },
      "source": [
        "## __Train-Test Split__ / __One-Hot Encoding__"
      ]
    },
    {
      "cell_type": "code",
      "metadata": {
        "id": "XQbJmNs6U3sq",
        "colab_type": "code",
        "colab": {
          "base_uri": "https://localhost:8080/",
          "height": 221
        },
        "outputId": "22882063-d053-48c8-c1c3-a22c4e2bf481"
      },
      "source": [
        "y = df6.ARRIVAL_DELAY\n",
        "X = df6.drop(columns = ['ARRIVAL_DELAY'])\n",
        "y"
      ],
      "execution_count": 28,
      "outputs": [
        {
          "output_type": "execute_result",
          "data": {
            "text/plain": [
              "0          0.0\n",
              "1          0.0\n",
              "2          1.0\n",
              "3          0.0\n",
              "4          0.0\n",
              "          ... \n",
              "2889507    0.0\n",
              "2889508    1.0\n",
              "2889509    1.0\n",
              "2889510    1.0\n",
              "2889511    0.0\n",
              "Name: ARRIVAL_DELAY, Length: 2810801, dtype: float64"
            ]
          },
          "metadata": {
            "tags": []
          },
          "execution_count": 28
        }
      ]
    },
    {
      "cell_type": "code",
      "metadata": {
        "id": "XMk8nEHeRVEq",
        "colab_type": "code",
        "colab": {}
      },
      "source": [
        "ohX = pd.get_dummies(X)"
      ],
      "execution_count": 29,
      "outputs": []
    },
    {
      "cell_type": "code",
      "metadata": {
        "id": "WCMKfgCuRUXL",
        "colab_type": "code",
        "colab": {
          "base_uri": "https://localhost:8080/",
          "height": 34
        },
        "outputId": "ab1e659d-cc9a-4800-d32d-ded08ac4fad7"
      },
      "source": [
        "ohX.shape"
      ],
      "execution_count": 30,
      "outputs": [
        {
          "output_type": "execute_result",
          "data": {
            "text/plain": [
              "(2810801, 640)"
            ]
          },
          "metadata": {
            "tags": []
          },
          "execution_count": 30
        }
      ]
    },
    {
      "cell_type": "code",
      "metadata": {
        "id": "kZCtW_5K8WDJ",
        "colab_type": "code",
        "colab": {}
      },
      "source": [
        "X_train, X_test, y_train, y_test = train_test_split(ohX,y,random_state = 42, test_size = 0.25)"
      ],
      "execution_count": 31,
      "outputs": []
    },
    {
      "cell_type": "markdown",
      "metadata": {
        "id": "N5J5UKY02vmd",
        "colab_type": "text"
      },
      "source": [
        "## __Fit and Review a Decision Tree Classifier__"
      ]
    },
    {
      "cell_type": "code",
      "metadata": {
        "id": "EIUyePwY8WDL",
        "colab_type": "code",
        "colab": {
          "base_uri": "https://localhost:8080/",
          "height": 119
        },
        "outputId": "4021524a-b874-4dc3-eb14-085003a4545a"
      },
      "source": [
        "tree_clf = DecisionTreeClassifier(max_depth = 5, criterion='gini')\n",
        "tree_clf.fit(X_train, y_train)"
      ],
      "execution_count": 82,
      "outputs": [
        {
          "output_type": "execute_result",
          "data": {
            "text/plain": [
              "DecisionTreeClassifier(ccp_alpha=0.0, class_weight=None, criterion='gini',\n",
              "                       max_depth=5, max_features=None, max_leaf_nodes=None,\n",
              "                       min_impurity_decrease=0.0, min_impurity_split=None,\n",
              "                       min_samples_leaf=1, min_samples_split=2,\n",
              "                       min_weight_fraction_leaf=0.0, presort='deprecated',\n",
              "                       random_state=None, splitter='best')"
            ]
          },
          "metadata": {
            "tags": []
          },
          "execution_count": 82
        }
      ]
    },
    {
      "cell_type": "markdown",
      "metadata": {
        "id": "KY-FmQhCzvKy",
        "colab_type": "text"
      },
      "source": [
        "### __Initial Review of Model Results__:\n",
        "\n",
        "First, we reviewed the efficacy of the initial model (before tuning it further).  Then, we looked at the feature importances from the tree. "
      ]
    },
    {
      "cell_type": "code",
      "metadata": {
        "id": "DS3hUJM08WDS",
        "colab_type": "code",
        "colab": {}
      },
      "source": [
        "pred = tree_clf.predict(X_test)"
      ],
      "execution_count": 83,
      "outputs": []
    },
    {
      "cell_type": "code",
      "metadata": {
        "id": "_cULJbxg8WDU",
        "colab_type": "code",
        "colab": {
          "base_uri": "https://localhost:8080/",
          "height": 51
        },
        "outputId": "a4995072-784f-42ce-c3bb-8458bf8a8431"
      },
      "source": [
        "# Confusion matrix and classification report\n",
        "import seaborn as sns\n",
        "cm = confusion_matrix(y_test, pred, normalize='true')\n",
        "cm"
      ],
      "execution_count": 84,
      "outputs": [
        {
          "output_type": "execute_result",
          "data": {
            "text/plain": [
              "array([[0.95089552, 0.04910448],\n",
              "       [0.91311995, 0.08688005]])"
            ]
          },
          "metadata": {
            "tags": []
          },
          "execution_count": 84
        }
      ]
    },
    {
      "cell_type": "code",
      "metadata": {
        "id": "WoMTERbt8WDV",
        "colab_type": "code",
        "colab": {
          "base_uri": "https://localhost:8080/",
          "height": 69
        },
        "outputId": "66b88889-993c-4b51-c8da-eced5ef3dcd7"
      },
      "source": [
        "classification_report(pred, y_test)"
      ],
      "execution_count": 85,
      "outputs": [
        {
          "output_type": "execute_result",
          "data": {
            "application/vnd.google.colaboratory.intrinsic+json": {
              "type": "string"
            },
            "text/plain": [
              "'              precision    recall  f1-score   support\\n\\n         0.0       0.95      0.62      0.75    657800\\n         1.0       0.09      0.53      0.15     44901\\n\\n    accuracy                           0.61    702701\\n   macro avg       0.52      0.58      0.45    702701\\nweighted avg       0.90      0.61      0.71    702701\\n'"
            ]
          },
          "metadata": {
            "tags": []
          },
          "execution_count": 85
        }
      ]
    },
    {
      "cell_type": "code",
      "metadata": {
        "id": "09wetV718WDX",
        "colab_type": "code",
        "colab": {
          "base_uri": "https://localhost:8080/",
          "height": 34
        },
        "outputId": "b17ee7c6-beb7-4089-ba45-9ae55bc5cfe9"
      },
      "source": [
        "print(\"Testing Accuracy for Decision Tree Classifier: {:.4}%\".format(accuracy_score(y_test, pred) * 100))"
      ],
      "execution_count": 39,
      "outputs": [
        {
          "output_type": "stream",
          "text": [
            "Testing Accuracy for Decision Tree Classifier: 61.25%\n"
          ],
          "name": "stdout"
        }
      ]
    },
    {
      "cell_type": "markdown",
      "metadata": {
        "id": "vJbuw4Mm8WDa",
        "colab_type": "text"
      },
      "source": [
        "__Analysis:__ The initial model better than guessing, but not by much. To be of any significant use, we will need to tune and potentially expand upon the model. \n",
        "\n",
        "### __Review Feature Importances__\n",
        "\n",
        "(Only those with an importance greater than zero are illustrated, given the large number of features)"
      ]
    },
    {
      "cell_type": "code",
      "metadata": {
        "id": "h5_ATDsOaHrI",
        "colab_type": "code",
        "colab": {}
      },
      "source": [
        "def show_importances(X_train, model):\n",
        "  f_importances = zip(X_train.columns, model.feature_importances_)\n",
        "  f_importances = list(f_importances)\n",
        "  significants = []\n",
        "  for i in range(len(f_importances)):\n",
        "    if f_importances[i][1] > 0.01:\n",
        "      significants.append(f_importances[i])\n",
        "  n_features = len(significants)\n",
        "  plt.figure(figsize=(10,10))\n",
        "  x_s = []\n",
        "  y_s = []\n",
        "  for i in range(n_features):\n",
        "    x_s.append(significants[i][1])\n",
        "    y_s.append(significants[i][0])\n",
        "\n",
        "  plt.barh(range(n_features), x_s, align='center') \n",
        "  plt.yticks(np.arange(n_features), y_s) \n",
        "  plt.xlabel('Feature importance')\n",
        "  plt.ylabel('Feature')\n",
        "  plt.title(('Relative Importance of Features \\n(Features Scoring Below 0.01 Are Not Illustrated Below)'))\n",
        "  plt.show()"
      ],
      "execution_count": 74,
      "outputs": []
    },
    {
      "cell_type": "code",
      "metadata": {
        "id": "4ow7QHxx8WDN",
        "colab_type": "code",
        "colab": {
          "base_uri": "https://localhost:8080/",
          "height": 637
        },
        "outputId": "de141684-4862-487e-cf65-ea44797f6241"
      },
      "source": [
        "show_importances(X_train, tree_clf)"
      ],
      "execution_count": 86,
      "outputs": [
        {
          "output_type": "display_data",
          "data": {
            "image/png": "[encoded data removed]",
            "text/plain": [
              "<Figure size 720x720 with 1 Axes>"
            ]
          },
          "metadata": {
            "tags": [],
            "needs_background": "light"
          }
        }
      ]
    },
    {
      "cell_type": "markdown",
      "metadata": {
        "id": "hXX0C6DX1F0R",
        "colab_type": "text"
      },
      "source": [
        "__Review:__ Somewhat intuitively, the scheduled departure window (which we had earlier grouped into three-hour blocks) was the most important feature.  There is likely some multicolinearity between scheduled departure and scheduled arrival. Some of the airlines and a few of the airports were also relatively important. \n",
        "\n",
        "### Visualize Relationship Between Scheduled Departure and Arrival Delay:"
      ]
    },
    {
      "cell_type": "code",
      "metadata": {
        "id": "hEbA9Bptqwhr",
        "colab_type": "code",
        "colab": {}
      },
      "source": [
        "#Prepare visualizing delay by departure window\n",
        "s1 = df6.groupby(['SCHEDULED_DEPARTURE'])['ARRIVAL_DELAY'].sum()\n",
        "s2 = df6.groupby(['SCHEDULED_DEPARTURE'])['ARRIVAL_DELAY'].count()\n",
        "df_sched_dept = pd.concat([s1, s2], axis = 1)\n",
        "df_sched_dept.columns = ['Delays','Total']\n",
        "df_sched_dept['pc_delayed'] = df_sched_dept.Delays / df_sched_dept.Total\n",
        "df_sched_dept['pc_ontime'] = 1-df_sched_dept.pc_delayed\n",
        "df_sched_dept.reset_index(inplace=True)"
      ],
      "execution_count": 42,
      "outputs": []
    },
    {
      "cell_type": "code",
      "metadata": {
        "id": "jeIir4-llEVn",
        "colab_type": "code",
        "colab": {
          "base_uri": "https://localhost:8080/",
          "height": 434
        },
        "outputId": "f718b03c-9cdd-4481-c7fd-ade06f7c995c"
      },
      "source": [
        "# Visualize On-Time Departures by the Departure Window\n",
        "r = [0,1,2,3,4,5,6,7]\n",
        "greenBars = df_sched_dept.pc_ontime\n",
        "redBars = df_sched_dept.pc_delayed\n",
        "barWidth = 0.85\n",
        "names = ('12a-3a','3a-6a','6a-9a', '9a-12p', '12p-3p', '3p-6p', '6p-9p', '9p-12a')\n",
        "# Create green Bars\n",
        "plt.figure(figsize=(10,6))\n",
        "plt.bar(r, greenBars, color='mediumspringgreen', edgecolor='white', width=barWidth)\n",
        "# Create orange Bars\n",
        "plt.bar(r, redBars, bottom=greenBars, color='tomato', edgecolor='white', width=barWidth)\n",
        "plt.xticks(r, names)\n",
        "plt.ylabel(\"Percent Delayed (Red) and On-Time (Green)\")\n",
        "plt.xlabel(\"Three-Hour Departure Windows\")\n",
        "plt.title(\"Percentage of Delayed and On-Time Flights \\n By Scheduled Departure Time \\n [Delayed=Red / On-Time=Green]\")\n",
        "\n",
        "for i in range(len(r)):\n",
        "  plt.annotate(round(df_sched_dept.pc_ontime[i]*100,1), xy=(r[i]-.2,(df_sched_dept.pc_ontime[i] - 0.13)))\n",
        "  plt.annotate(round(df_sched_dept.pc_delayed[i]*100,1), xy=(r[i]-.2,(df_sched_dept.pc_ontime[i] + 0.1)))\n",
        "\n",
        "plt.show()"
      ],
      "execution_count": 43,
      "outputs": [
        {
          "output_type": "display_data",
          "data": {
            "image/png": "[encoded data removed]",
            "text/plain": [
              "<Figure size 720x432 with 1 Axes>"
            ]
          },
          "metadata": {
            "tags": [],
            "needs_background": "light"
          }
        }
      ]
    },
    {
      "cell_type": "markdown",
      "metadata": {
        "id": "2uj0wvUbnebv",
        "colab_type": "text"
      },
      "source": [
        "__Review:__ On the decison tree list of feature importances, the scheduled departure time was by far the highest-scoring feature. The feature was broken down into three-hour windows. The increase in delays towards the end of the day makes some sense, easing in the later evening. \n",
        "\n",
        "### Visualize Relationship Between Airline and Arrival Delay:"
      ]
    },
    {
      "cell_type": "code",
      "metadata": {
        "id": "9pIy8rHg8WDb",
        "colab_type": "code",
        "colab": {}
      },
      "source": [
        "#Prepare visualizing delay by departure window\n",
        "s1 = df6.groupby(['AIRLINE'])['ARRIVAL_DELAY'].sum()\n",
        "s2 = df6.groupby(['AIRLINE'])['ARRIVAL_DELAY'].count()\n",
        "df_airlines = pd.concat([s1, s2], axis = 1)\n",
        "df_airlines.columns = ['Delays','Total']\n",
        "df_airlines['pc_delayed'] = df_airlines.Delays / df_airlines.Total\n",
        "df_airlines['pc_ontime'] = 1-df_airlines.pc_delayed\n",
        "airlines = ['American','Alaska','JetBlue','Delta', 'Atlantic Southeast', 'Frontier', 'Hawaiian', 'American Eagle', \n",
        "            'Spirit', 'Skywest', 'United','US','Virgin America', 'Southwest']\n",
        "df_airlines['Airlines'] = airlines\n",
        "a = []\n",
        "b = []\n",
        "for i in range(len(airlines)):\n",
        "  a.append(round(df_airlines.pc_delayed[i]*100,1))\n",
        "  b.append(round(df_airlines.pc_ontime[i]*100,1))\n",
        "df_airlines['Ontime_Labels'] = b\n",
        "df_airlines['Delay_Labels'] = a"
      ],
      "execution_count": 44,
      "outputs": []
    },
    {
      "cell_type": "code",
      "metadata": {
        "id": "hemLm4Y68WDd",
        "colab_type": "code",
        "colab": {
          "base_uri": "https://localhost:8080/",
          "height": 502
        },
        "outputId": "15309e40-72a2-43e4-ffe2-e8783968f063"
      },
      "source": [
        "# Visualize On-Time Departures by the Departure Window\n",
        "r = [0,1,2,3,4,5,6,7,8,9,10,11,12,13]\n",
        "greenBars = df_airlines.pc_ontime\n",
        "redBars = df_airlines.pc_delayed\n",
        "barWidth = 0.85\n",
        "names = df_airlines.Airlines\n",
        "# Create green Bars\n",
        "plt.figure(figsize=(14,6))\n",
        "ax = plt.bar(r, greenBars, color='springgreen', edgecolor='white', width=barWidth)\n",
        "# Create orange Bars\n",
        "ax = plt.bar(r, redBars, bottom=greenBars, color='yellow', edgecolor='white', width=barWidth)\n",
        "plt.xticks(r, names, rotation=90)\n",
        "plt.ylabel(\"Percent Delayed\")\n",
        "plt.title(\"Percentage of Delayed and On-Time Flights \\n By Airline \\n [Delayed = Yellow / On-Time = Green]\")\n",
        "\n",
        "for i in range(len(df_airlines.Airlines)):\n",
        "  plt.annotate(df_airlines.Ontime_Labels[i], xy=(r[i]-.2,(df_airlines.Ontime_Labels[i]/100) -0.13))\n",
        "  plt.annotate(df_airlines.Delay_Labels[i], xy=(r[i]-.2, (df_airlines.Ontime_Labels[i]/100) + 0.1))\n",
        "\n",
        "plt.show()"
      ],
      "execution_count": 45,
      "outputs": [
        {
          "output_type": "display_data",
          "data": {
            "image/png": "[encoded data removed]",
            "text/plain": [
              "<Figure size 1008x432 with 1 Axes>"
            ]
          },
          "metadata": {
            "tags": [],
            "needs_background": "light"
          }
        }
      ]
    },
    {
      "cell_type": "markdown",
      "metadata": {
        "id": "PjL2DkYU8WDg",
        "colab_type": "text"
      },
      "source": [
        "__Review:__ As noted above, Delta, Southwest, and Alaska Airlines were the only airline features showing up on the decision tree feature importances.  The above visualization shows that Delta has a better on-time record (using a zero-minutes-late threshold above), and Alaska is relatively close.  Curiously, Southwest appears rather average, though it has 22% of the total flights, more than all other airlines (counting partners like American and American Eagle separately).  This may help it appear more average. \n",
        "\n",
        "OVERALL, the model didn't perform too well.  We will implement a random forest to see if that improves performance. "
      ]
    },
    {
      "cell_type": "markdown",
      "metadata": {
        "id": "xwUKm_SF8WDh",
        "colab_type": "text"
      },
      "source": [
        "## __Random Forest Model__"
      ]
    },
    {
      "cell_type": "code",
      "metadata": {
        "id": "FibZc_1SuR2o",
        "colab_type": "code",
        "colab": {
          "base_uri": "https://localhost:8080/",
          "height": 153
        },
        "outputId": "42ebeee2-2785-48bd-8557-1f2ad553a4f2"
      },
      "source": [
        "forest = RandomForestClassifier(n_estimators=30, max_depth=10)\n",
        "\n",
        "forest.fit(X_train, y_train)"
      ],
      "execution_count": 46,
      "outputs": [
        {
          "output_type": "execute_result",
          "data": {
            "text/plain": [
              "RandomForestClassifier(bootstrap=True, ccp_alpha=0.0, class_weight=None,\n",
              "                       criterion='gini', max_depth=10, max_features='auto',\n",
              "                       max_leaf_nodes=None, max_samples=None,\n",
              "                       min_impurity_decrease=0.0, min_impurity_split=None,\n",
              "                       min_samples_leaf=1, min_samples_split=2,\n",
              "                       min_weight_fraction_leaf=0.0, n_estimators=30,\n",
              "                       n_jobs=None, oob_score=False, random_state=None,\n",
              "                       verbose=0, warm_start=False)"
            ]
          },
          "metadata": {
            "tags": []
          },
          "execution_count": 46
        }
      ]
    },
    {
      "cell_type": "code",
      "metadata": {
        "id": "XRPZbUUSuSOB",
        "colab_type": "code",
        "colab": {}
      },
      "source": [
        "forest_pred = forest.predict(X_test)"
      ],
      "execution_count": 47,
      "outputs": []
    },
    {
      "cell_type": "code",
      "metadata": {
        "id": "ZwbtJ7g-uSaB",
        "colab_type": "code",
        "colab": {
          "base_uri": "https://localhost:8080/",
          "height": 34
        },
        "outputId": "919234f5-9c58-47f9-d558-583e7a3e9924"
      },
      "source": [
        "forest.score(X_train, y_train)"
      ],
      "execution_count": 48,
      "outputs": [
        {
          "output_type": "execute_result",
          "data": {
            "text/plain": [
              "0.6092381765570893"
            ]
          },
          "metadata": {
            "tags": []
          },
          "execution_count": 48
        }
      ]
    },
    {
      "cell_type": "code",
      "metadata": {
        "id": "a-fGvpADwUGP",
        "colab_type": "code",
        "colab": {
          "base_uri": "https://localhost:8080/",
          "height": 34
        },
        "outputId": "73360cc1-7ce6-4002-84b9-e07fe97eec2e"
      },
      "source": [
        "print(\"Testing Accuracy for Random Forest Classifier: {:.4}%\".format(accuracy_score(y_test, forest_pred) * 100))"
      ],
      "execution_count": 49,
      "outputs": [
        {
          "output_type": "stream",
          "text": [
            "Testing Accuracy for Random Forest Classifier: 60.89%\n"
          ],
          "name": "stdout"
        }
      ]
    },
    {
      "cell_type": "markdown",
      "metadata": {
        "id": "2irwGiNGwT2R",
        "colab_type": "text"
      },
      "source": [
        "__Review:__ The random forest classifier is actually marginally worse than the decision tree, at 60.89% accuracy.  We will tune the model to hopefully increase its accuracy.  First, though, I want to review the feature importances of the random forest, to see how they compare to the decision tree model:"
      ]
    },
    {
      "cell_type": "code",
      "metadata": {
        "id": "6n4390TdbF9E",
        "colab_type": "code",
        "colab": {
          "base_uri": "https://localhost:8080/",
          "height": 637
        },
        "outputId": "800f0b81-1cae-4867-b2bb-e07578eabd10"
      },
      "source": [
        "show_importances(X_train, forest)"
      ],
      "execution_count": 77,
      "outputs": [
        {
          "output_type": "display_data",
          "data": {
            "image/png": "[encoded data removed]",
            "text/plain": [
              "<Figure size 720x720 with 1 Axes>"
            ]
          },
          "metadata": {
            "tags": [],
            "needs_background": "light"
          }
        }
      ]
    },
    {
      "cell_type": "markdown",
      "metadata": {
        "id": "Qohlj4JDwTQQ",
        "colab_type": "text"
      },
      "source": [
        "__Review:__ Many more features were included in the importances in the random forest.  For readability, we implemented a feature-importance threhold of 0.01. \n",
        "\n",
        "Scheduled arrival time remained the most important feature; scheduled departure was also significant, but it's likely important for the same underlying reasons as the scheduled arrival time. \n",
        "\n",
        "Delta Airlines is also higher on the scale, likely due to its relative on-time performance, shown above. \n",
        "\n",
        "Finally, the month is a relatively important feature. The relationship between month of departure and on-time performance was not visualized above; we will do so below:\n",
        "\n"
      ]
    },
    {
      "cell_type": "code",
      "metadata": {
        "id": "XmpykHPQNtsT",
        "colab_type": "code",
        "colab": {}
      },
      "source": [
        "#Prepare visualizing delay by Month\n",
        "s1 = df6.groupby(['MONTH'])['ARRIVAL_DELAY'].sum()\n",
        "s2 = df6.groupby(['MONTH'])['ARRIVAL_DELAY'].count()\n",
        "df_months = pd.concat([s1, s2], axis = 1)\n",
        "df_months.columns = ['Delays','Total']\n",
        "df_months['pc_delayed'] = df_months.Delays / df_months.Total\n",
        "df_months['pc_ontime'] = 1-df_months.pc_delayed\n",
        "df_months.reset_index(inplace=True)"
      ],
      "execution_count": 54,
      "outputs": []
    },
    {
      "cell_type": "code",
      "metadata": {
        "id": "shZLESy_NuBk",
        "colab_type": "code",
        "colab": {
          "base_uri": "https://localhost:8080/",
          "height": 434
        },
        "outputId": "eb09139c-6fcb-49dc-9793-2b4278d1ad4d"
      },
      "source": [
        "# Visualize On-Time Departures by Month\n",
        "r = [0,1,2,3,4,5]\n",
        "greenBars = df_months.pc_ontime\n",
        "redBars = df_months.pc_delayed\n",
        "barWidth = 0.85\n",
        "names = ('January', 'February', 'March', 'April', 'May', 'June')\n",
        "# Create green Bars\n",
        "plt.figure(figsize=(10,6))\n",
        "plt.bar(r, greenBars, color='lightgreen', edgecolor='white', width=barWidth)\n",
        "# Create orange Bars\n",
        "plt.bar(r, redBars, bottom=greenBars, color='paleturquoise', edgecolor='white', width=barWidth)\n",
        "plt.xticks(r, names)\n",
        "plt.ylabel(\"Percent Delayed (Blue) and On-Time (Green)\")\n",
        "plt.xlabel(\"Months\")\n",
        "plt.title(\"Percentage of Delayed and On-Time Flights \\n By Month \\n [Delayed=Blue / On-Time=Green]\")\n",
        "\n",
        "for i in range(len(r)):\n",
        "  plt.annotate(round(df_months.pc_ontime[i]*100,1), xy=(r[i]-.2,(df_months.pc_ontime[i] - 0.13)))\n",
        "  plt.annotate(round(df_months.pc_delayed[i]*100,1), xy=(r[i]-.2,(df_months.pc_ontime[i] + 0.1)))\n",
        "\n",
        "plt.show()"
      ],
      "execution_count": 55,
      "outputs": [
        {
          "output_type": "display_data",
          "data": {
            "image/png": "[encoded data removed]",
            "text/plain": [
              "<Figure size 720x432 with 1 Axes>"
            ]
          },
          "metadata": {
            "tags": [],
            "needs_background": "light"
          }
        }
      ]
    },
    {
      "cell_type": "markdown",
      "metadata": {
        "id": "-pbL0Ez4Vtqt",
        "colab_type": "text"
      },
      "source": [
        "There doesn't appear to be a clear pattern of delays by month, though there definitely is an increase in March, April, and May. "
      ]
    },
    {
      "cell_type": "markdown",
      "metadata": {
        "id": "qJB88VdeW__M",
        "colab_type": "text"
      },
      "source": [
        "## Tuning the Models"
      ]
    },
    {
      "cell_type": "markdown",
      "metadata": {
        "id": "AcKQoyQONuTb",
        "colab_type": "text"
      },
      "source": [
        "First, we will attempt to tune the decision tree with GridSearchCV.  \n",
        "\n",
        "While we would typically use GridSearchCV, the large number of features in this dataset would likely take an extreme amount of time.  Accordingly, we'll tune the model using RandomSearchCV. "
      ]
    },
    {
      "cell_type": "code",
      "metadata": {
        "id": "0pAZdbV4aLqP",
        "colab_type": "code",
        "colab": {
          "base_uri": "https://localhost:8080/",
          "height": 34
        },
        "outputId": "e73cacf1-b336-417e-95c7-45b1bb168e43"
      },
      "source": [
        "# Set parameter grid\n",
        "\n",
        "clf = DecisionTreeClassifier()\n",
        "\n",
        "params =  {\n",
        "    'criterion': ['gini', 'entropy'],\n",
        "    'max_depth': [1, 10, 50],\n",
        "    'min_samples_split': [1, 10, 20]\n",
        "}\n",
        "\n",
        "gs_tree = GridSearchCV(clf, params, cv=3)\n",
        "gs_tree.fit(X_train, y_train)\n",
        "\n",
        "gs_tree.best_params_"
      ],
      "execution_count": 56,
      "outputs": [
        {
          "output_type": "execute_result",
          "data": {
            "text/plain": [
              "{'criterion': 'gini', 'max_depth': 50, 'min_samples_split': 20}"
            ]
          },
          "metadata": {
            "tags": []
          },
          "execution_count": 56
        }
      ]
    },
    {
      "cell_type": "markdown",
      "metadata": {
        "id": "a-czfMkNQ_dW",
        "colab_type": "text"
      },
      "source": [
        "The GridSeachCV returned the following: gini, max_depth=50, min_samples_split=20. We'll run the model on these parameters and see if performance improves: "
      ]
    },
    {
      "cell_type": "code",
      "metadata": {
        "id": "EdFo-qm469-g",
        "colab_type": "code",
        "colab": {
          "base_uri": "https://localhost:8080/",
          "height": 119
        },
        "outputId": "c8bd372d-02ae-4550-81d1-3800a24379a6"
      },
      "source": [
        "tree_clf_2 = DecisionTreeClassifier(max_depth = 50, criterion='gini', min_samples_split=20)\n",
        "tree_clf_2.fit(X_train, y_train)"
      ],
      "execution_count": 60,
      "outputs": [
        {
          "output_type": "execute_result",
          "data": {
            "text/plain": [
              "DecisionTreeClassifier(ccp_alpha=0.0, class_weight=None, criterion='gini',\n",
              "                       max_depth=50, max_features=None, max_leaf_nodes=None,\n",
              "                       min_impurity_decrease=0.0, min_impurity_split=None,\n",
              "                       min_samples_leaf=1, min_samples_split=20,\n",
              "                       min_weight_fraction_leaf=0.0, presort='deprecated',\n",
              "                       random_state=None, splitter='best')"
            ]
          },
          "metadata": {
            "tags": []
          },
          "execution_count": 60
        }
      ]
    },
    {
      "cell_type": "code",
      "metadata": {
        "id": "4zjJQCaZVa9q",
        "colab_type": "code",
        "colab": {}
      },
      "source": [
        "pred_2 = tree_clf_2.predict(X_test)"
      ],
      "execution_count": 78,
      "outputs": []
    },
    {
      "cell_type": "code",
      "metadata": {
        "id": "vRJiEpAdqHC8",
        "colab_type": "code",
        "colab": {
          "base_uri": "https://localhost:8080/",
          "height": 51
        },
        "outputId": "5cc8e15c-29fa-48d5-8c6d-e0f935bcb7ff"
      },
      "source": [
        "print(\"Previous train score was 61.25%; \\nTesting Accuracy for Decision Tree Classifier: {:.4}%\".format(accuracy_score(y_test, pred_2) * 100))"
      ],
      "execution_count": 79,
      "outputs": [
        {
          "output_type": "stream",
          "text": [
            "Previous train score was 61.25%; \n",
            "Testing Accuracy for Decision Tree Classifier: 64.28%\n"
          ],
          "name": "stdout"
        }
      ]
    },
    {
      "cell_type": "markdown",
      "metadata": {
        "id": "A1e1KQFpqHPZ",
        "colab_type": "text"
      },
      "source": [
        "__Review:__ The GridSearchCV improved the model's performance from 61.25% accuracy to 64.28% accuracy. However, the max_depth was the high end of the parameter grid.  So, we will re-run with a broader grid. The runtime was long (~90 minutes on ColabPro).  A RandomizedSearchCV also crashed ColabPro.  Considering that the parameters used were all the maxima of their respective parameters, I'll run one more decision tree with increased parameters to see if the accuracy changes at all. "
      ]
    },
    {
      "cell_type": "code",
      "metadata": {
        "id": "msSPn7vsqHe1",
        "colab_type": "code",
        "colab": {}
      },
      "source": [
        "# clf = DecisionTreeClassifier() -- CRASHED AFTER 2 HOURS\n",
        "\n",
        "# params =  {\n",
        "#     'criterion': ['gini'],\n",
        "#     'max_depth': [10, 20, 50],\n",
        "#     'min_samples_split': [30]\n",
        "# }\n",
        "\n",
        "# gs_tree_RSCV = RandomizedSearchCV(clf, params, cv=3)\n",
        "# gs_tree_RSCV.fit(X_train, y_train)\n",
        "\n",
        "# gs_tree_RSCV.best_params_"
      ],
      "execution_count": null,
      "outputs": []
    },
    {
      "cell_type": "code",
      "metadata": {
        "id": "NOafs5f3qHrz",
        "colab_type": "code",
        "colab": {
          "base_uri": "https://localhost:8080/",
          "height": 119
        },
        "outputId": "a2811e26-027e-4933-855c-15584869cdd5"
      },
      "source": [
        "tree_clf_3 = DecisionTreeClassifier(max_depth = 75, criterion='gini', min_samples_split=50)\n",
        "tree_clf_3.fit(X_train, y_train)"
      ],
      "execution_count": 63,
      "outputs": [
        {
          "output_type": "execute_result",
          "data": {
            "text/plain": [
              "DecisionTreeClassifier(ccp_alpha=0.0, class_weight=None, criterion='gini',\n",
              "                       max_depth=75, max_features=None, max_leaf_nodes=None,\n",
              "                       min_impurity_decrease=0.0, min_impurity_split=None,\n",
              "                       min_samples_leaf=1, min_samples_split=50,\n",
              "                       min_weight_fraction_leaf=0.0, presort='deprecated',\n",
              "                       random_state=None, splitter='best')"
            ]
          },
          "metadata": {
            "tags": []
          },
          "execution_count": 63
        }
      ]
    },
    {
      "cell_type": "code",
      "metadata": {
        "id": "_OaVRZCMVMdx",
        "colab_type": "code",
        "colab": {}
      },
      "source": [
        "pred_3 = tree_clf_3.predict(X_test)"
      ],
      "execution_count": 64,
      "outputs": []
    },
    {
      "cell_type": "code",
      "metadata": {
        "id": "T1MWEoo4qH4J",
        "colab_type": "code",
        "colab": {
          "base_uri": "https://localhost:8080/",
          "height": 51
        },
        "outputId": "3c5ac92a-b409-4681-b70d-06111fe25a1c"
      },
      "source": [
        "print(\"Previous train score was 65.05%; \\nTesting Accuracy for Decision Tree Classifier: {:.4}%\".format(accuracy_score(y_test, pred_3) * 100))"
      ],
      "execution_count": 66,
      "outputs": [
        {
          "output_type": "stream",
          "text": [
            "Previous train score was 65.05%; \n",
            "Testing Accuracy for Decision Tree Classifier: 65.03%\n"
          ],
          "name": "stdout"
        }
      ]
    },
    {
      "cell_type": "markdown",
      "metadata": {
        "id": "66dP1NoZYvLZ",
        "colab_type": "text"
      },
      "source": [
        "__Review:__ Increasing the parameters did not improve the model; it actually very marginally decreased its performance. Accordingly, we'll review the feature importances based upon the GridSearchCV parameters (the second iteration of the model, tree_clf_2). "
      ]
    },
    {
      "cell_type": "code",
      "metadata": {
        "id": "T6SQ6dCTbj6o",
        "colab_type": "code",
        "colab": {
          "base_uri": "https://localhost:8080/",
          "height": 637
        },
        "outputId": "15ac7440-7660-40e7-c4b8-7d0f64b701cd"
      },
      "source": [
        "show_importances(X_train, tree_clf_2)"
      ],
      "execution_count": 80,
      "outputs": [
        {
          "output_type": "display_data",
          "data": {
            "image/png": "[encoded data removed]",
            "text/plain": [
              "<Figure size 720x720 with 1 Axes>"
            ]
          },
          "metadata": {
            "tags": [],
            "needs_background": "light"
          }
        }
      ]
    },
    {
      "cell_type": "markdown",
      "metadata": {
        "id": "OEKYVmLQbq9C",
        "colab_type": "text"
      },
      "source": [
        "__Review:__ Interestingly, the Air_time feature gained significant importance in this iteration of the model.  This is a continuous variable, ranging from 7 to 690 minutes (see below).  To explore this relationship, we plotted the two columns from the original dataframe against each other: "
      ]
    },
    {
      "cell_type": "code",
      "metadata": {
        "id": "D8eeHLEXdDYM",
        "colab_type": "code",
        "colab": {
          "base_uri": "https://localhost:8080/",
          "height": 170
        },
        "outputId": "137f5b09-5b4c-4e28-f137-28bd77db0f23"
      },
      "source": [
        "df6.AIR_TIME.describe()"
      ],
      "execution_count": 88,
      "outputs": [
        {
          "output_type": "execute_result",
          "data": {
            "text/plain": [
              "count    2.810801e+06\n",
              "mean     1.136824e+02\n",
              "std      7.209756e+01\n",
              "min      7.000000e+00\n",
              "25%      6.100000e+01\n",
              "50%      9.500000e+01\n",
              "75%      1.440000e+02\n",
              "max      6.900000e+02\n",
              "Name: AIR_TIME, dtype: float64"
            ]
          },
          "metadata": {
            "tags": []
          },
          "execution_count": 88
        }
      ]
    },
    {
      "cell_type": "code",
      "metadata": {
        "id": "Tc-LC7bhdG5S",
        "colab_type": "code",
        "colab": {
          "base_uri": "https://localhost:8080/",
          "height": 404
        },
        "outputId": "9a848723-f961-4aca-bb88-d47116817b96"
      },
      "source": [
        "plt.figure(figsize=(10,6))\n",
        "plt.scatter(x=df2.AIR_TIME, y=df2.ARRIVAL_DELAY, color = 'palegreen')\n",
        "plt.ylabel(\"Arrival Delay (minutes)\")\n",
        "plt.xlabel(\"Air Time (minutes)\")\n",
        "plt.title(\"Relationship Between Airtime and Arrival Delay\")\n",
        "plt.show()"
      ],
      "execution_count": 93,
      "outputs": [
        {
          "output_type": "display_data",
          "data": {
            "image/png": "[encoded data removed]",
            "text/plain": [
              "<Figure size 720x432 with 1 Axes>"
            ]
          },
          "metadata": {
            "tags": [],
            "needs_background": "light"
          }
        }
      ]
    },
    {
      "cell_type": "markdown",
      "metadata": {
        "id": "LQYrtq5wgHVe",
        "colab_type": "text"
      },
      "source": [
        "__Review:__ There is a clear relationship showing that longer flights suffer much fewer delays than the shorter flights.  "
      ]
    },
    {
      "cell_type": "markdown",
      "metadata": {
        "id": "zmWU7zw5hi53",
        "colab_type": "text"
      },
      "source": [
        "## __Conclusion:__\n",
        "\n",
        "Overall, we were not able to construct a model that could predict late flights with significant accuracy.  However, the various models identified features which were significant in determing whether a model would be effective.  For instance, longer flights have a significantly lower chance of being delayed than shorter flights; flights in April and May have a better on-time performance than other months (in our January-June review), and certain airlines simply performed better than others (Alaska and Delta performing better, while Frontier and Spirit performing worse). Finally, the departure window was also a significant feature in the models, and the data show that departures between 3am and 6am had the best on-time performance, while those departing between 6pm and 9pm had the worst. While purely measuring the chance that a flight would be delayed, these factors would be significant to consider. \n",
        "\n",
        "Future Work:  There is some class imbalance (shown below); we could re-run the model accounting for that imbalance, which may improve performance.  Also, we could further limit either airports and/or airlines to obtain better performance, though how we limit this may unfairly skew the model.  For instance, if smaller airports are a cause of the delays, removing smaller airports would bias the model.\n",
        "\n",
        "We could also explore the reasons for the different delays (i.e., which months had more weather delays, which departure times had more airline delays, etc.).  "
      ]
    },
    {
      "cell_type": "code",
      "metadata": {
        "id": "O2qZZrVrh_EF",
        "colab_type": "code",
        "colab": {
          "base_uri": "https://localhost:8080/",
          "height": 68
        },
        "outputId": "31efe2b0-2d6f-4088-9df6-652956d211e0"
      },
      "source": [
        "df6.ARRIVAL_DELAY.value_counts()"
      ],
      "execution_count": 91,
      "outputs": [
        {
          "output_type": "execute_result",
          "data": {
            "text/plain": [
              "0.0    1710686\n",
              "1.0    1100115\n",
              "Name: ARRIVAL_DELAY, dtype: int64"
            ]
          },
          "metadata": {
            "tags": []
          },
          "execution_count": 91
        }
      ]
    },
    {
      "cell_type": "code",
      "metadata": {
        "id": "EmqzfraDiJ89",
        "colab_type": "code",
        "colab": {}
      },
      "source": [
        ""
      ],
      "execution_count": null,
      "outputs": []
    }
  ]
}